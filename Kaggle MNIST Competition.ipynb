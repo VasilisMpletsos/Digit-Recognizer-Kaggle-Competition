{
  "nbformat": 4,
  "nbformat_minor": 0,
  "metadata": {
    "accelerator": "GPU",
    "colab": {
      "name": "KaggleDigitRecogniserCompetition.ipynb",
      "provenance": [],
      "collapsed_sections": [],
      "toc_visible": true
    },
    "kernelspec": {
      "display_name": "Python 3",
      "name": "python3"
    }
  },
  "cells": [
    {
      "cell_type": "code",
      "metadata": {
        "id": "8fKdaBStFeH_"
      },
      "source": [
        "import matplotlib.pyplot as plt\n",
        "import pandas as pd\n",
        "import numpy as np\n",
        "%matplotlib inline"
      ],
      "execution_count": 1,
      "outputs": []
    },
    {
      "cell_type": "code",
      "metadata": {
        "id": "O-WhLfN5KvV9",
        "outputId": "dfe43ad1-8607-4831-c945-db86ea798c8f",
        "colab": {
          "base_uri": "https://localhost:8080/",
          "height": 35
        }
      },
      "source": [
        "import tensorflow as tf\n",
        "tf.test.gpu_device_name()"
      ],
      "execution_count": 2,
      "outputs": [
        {
          "output_type": "execute_result",
          "data": {
            "application/vnd.google.colaboratory.intrinsic+json": {
              "type": "string"
            },
            "text/plain": [
              "'/device:GPU:0'"
            ]
          },
          "metadata": {
            "tags": []
          },
          "execution_count": 2
        }
      ]
    },
    {
      "cell_type": "code",
      "metadata": {
        "id": "Yol2AyHBIaOo",
        "outputId": "57c37702-5f6a-45f6-84b2-b1bb1c569c91",
        "colab": {
          "base_uri": "https://localhost:8080/",
          "height": 34
        }
      },
      "source": [
        "cd /content/drive/My Drive/Kaggle Digit Recogniser"
      ],
      "execution_count": 3,
      "outputs": [
        {
          "output_type": "stream",
          "text": [
            "/content/drive/My Drive/Kaggle Digit Recogniser\n"
          ],
          "name": "stdout"
        }
      ]
    },
    {
      "cell_type": "code",
      "metadata": {
        "id": "EXyUONtoJFbB"
      },
      "source": [
        "data = pd.read_csv('./train.csv')"
      ],
      "execution_count": 4,
      "outputs": []
    },
    {
      "cell_type": "code",
      "metadata": {
        "id": "QRfpFJeAJOqh",
        "outputId": "04694ae7-d5af-4537-81d5-ed76990fd7cf",
        "colab": {
          "base_uri": "https://localhost:8080/",
          "height": 102
        }
      },
      "source": [
        "data.info()"
      ],
      "execution_count": 5,
      "outputs": [
        {
          "output_type": "stream",
          "text": [
            "<class 'pandas.core.frame.DataFrame'>\n",
            "RangeIndex: 42000 entries, 0 to 41999\n",
            "Columns: 785 entries, label to pixel783\n",
            "dtypes: int64(785)\n",
            "memory usage: 251.5 MB\n"
          ],
          "name": "stdout"
        }
      ]
    },
    {
      "cell_type": "code",
      "metadata": {
        "id": "nt3KWRPiJQzB"
      },
      "source": [
        "y_train = data['label']"
      ],
      "execution_count": 6,
      "outputs": []
    },
    {
      "cell_type": "code",
      "metadata": {
        "id": "pCwp1Zt_JTqP",
        "outputId": "bff16e35-173f-4f22-867c-eb1868612b7f",
        "colab": {
          "base_uri": "https://localhost:8080/",
          "height": 119
        }
      },
      "source": [
        "y_train.head()"
      ],
      "execution_count": 7,
      "outputs": [
        {
          "output_type": "execute_result",
          "data": {
            "text/plain": [
              "0    1\n",
              "1    0\n",
              "2    1\n",
              "3    4\n",
              "4    0\n",
              "Name: label, dtype: int64"
            ]
          },
          "metadata": {
            "tags": []
          },
          "execution_count": 7
        }
      ]
    },
    {
      "cell_type": "code",
      "metadata": {
        "id": "wi2utzABJVX8",
        "outputId": "c1a0ccd7-2a37-4601-d8fa-a8b91428de2f",
        "colab": {
          "base_uri": "https://localhost:8080/",
          "height": 34
        }
      },
      "source": [
        "y_train.shape"
      ],
      "execution_count": 8,
      "outputs": [
        {
          "output_type": "execute_result",
          "data": {
            "text/plain": [
              "(42000,)"
            ]
          },
          "metadata": {
            "tags": []
          },
          "execution_count": 8
        }
      ]
    },
    {
      "cell_type": "code",
      "metadata": {
        "id": "dwis_FFQJWwr"
      },
      "source": [
        "from keras.utils.np_utils import to_categorical\n",
        "y_train = to_categorical(y_train,len(y_train.unique()))"
      ],
      "execution_count": 9,
      "outputs": []
    },
    {
      "cell_type": "code",
      "metadata": {
        "id": "FVBwpJAPJbJ4"
      },
      "source": [
        "x_train = data.drop('label',axis=1)"
      ],
      "execution_count": 10,
      "outputs": []
    },
    {
      "cell_type": "code",
      "metadata": {
        "id": "qMy82ZpuJc0N"
      },
      "source": [
        "x_train = x_train / 255"
      ],
      "execution_count": 11,
      "outputs": []
    },
    {
      "cell_type": "code",
      "metadata": {
        "id": "uwLH3Df4Jexn",
        "outputId": "bbeb6f77-b346-4081-fb24-e1c1af384163",
        "colab": {
          "base_uri": "https://localhost:8080/",
          "height": 253
        }
      },
      "source": [
        "x_train.head()"
      ],
      "execution_count": 12,
      "outputs": [
        {
          "output_type": "execute_result",
          "data": {
            "text/html": [
              "<div>\n",
              "<style scoped>\n",
              "    .dataframe tbody tr th:only-of-type {\n",
              "        vertical-align: middle;\n",
              "    }\n",
              "\n",
              "    .dataframe tbody tr th {\n",
              "        vertical-align: top;\n",
              "    }\n",
              "\n",
              "    .dataframe thead th {\n",
              "        text-align: right;\n",
              "    }\n",
              "</style>\n",
              "<table border=\"1\" class=\"dataframe\">\n",
              "  <thead>\n",
              "    <tr style=\"text-align: right;\">\n",
              "      <th></th>\n",
              "      <th>pixel0</th>\n",
              "      <th>pixel1</th>\n",
              "      <th>pixel2</th>\n",
              "      <th>pixel3</th>\n",
              "      <th>pixel4</th>\n",
              "      <th>pixel5</th>\n",
              "      <th>pixel6</th>\n",
              "      <th>pixel7</th>\n",
              "      <th>pixel8</th>\n",
              "      <th>pixel9</th>\n",
              "      <th>pixel10</th>\n",
              "      <th>pixel11</th>\n",
              "      <th>pixel12</th>\n",
              "      <th>pixel13</th>\n",
              "      <th>pixel14</th>\n",
              "      <th>pixel15</th>\n",
              "      <th>pixel16</th>\n",
              "      <th>pixel17</th>\n",
              "      <th>pixel18</th>\n",
              "      <th>pixel19</th>\n",
              "      <th>pixel20</th>\n",
              "      <th>pixel21</th>\n",
              "      <th>pixel22</th>\n",
              "      <th>pixel23</th>\n",
              "      <th>pixel24</th>\n",
              "      <th>pixel25</th>\n",
              "      <th>pixel26</th>\n",
              "      <th>pixel27</th>\n",
              "      <th>pixel28</th>\n",
              "      <th>pixel29</th>\n",
              "      <th>pixel30</th>\n",
              "      <th>pixel31</th>\n",
              "      <th>pixel32</th>\n",
              "      <th>pixel33</th>\n",
              "      <th>pixel34</th>\n",
              "      <th>pixel35</th>\n",
              "      <th>pixel36</th>\n",
              "      <th>pixel37</th>\n",
              "      <th>pixel38</th>\n",
              "      <th>pixel39</th>\n",
              "      <th>...</th>\n",
              "      <th>pixel744</th>\n",
              "      <th>pixel745</th>\n",
              "      <th>pixel746</th>\n",
              "      <th>pixel747</th>\n",
              "      <th>pixel748</th>\n",
              "      <th>pixel749</th>\n",
              "      <th>pixel750</th>\n",
              "      <th>pixel751</th>\n",
              "      <th>pixel752</th>\n",
              "      <th>pixel753</th>\n",
              "      <th>pixel754</th>\n",
              "      <th>pixel755</th>\n",
              "      <th>pixel756</th>\n",
              "      <th>pixel757</th>\n",
              "      <th>pixel758</th>\n",
              "      <th>pixel759</th>\n",
              "      <th>pixel760</th>\n",
              "      <th>pixel761</th>\n",
              "      <th>pixel762</th>\n",
              "      <th>pixel763</th>\n",
              "      <th>pixel764</th>\n",
              "      <th>pixel765</th>\n",
              "      <th>pixel766</th>\n",
              "      <th>pixel767</th>\n",
              "      <th>pixel768</th>\n",
              "      <th>pixel769</th>\n",
              "      <th>pixel770</th>\n",
              "      <th>pixel771</th>\n",
              "      <th>pixel772</th>\n",
              "      <th>pixel773</th>\n",
              "      <th>pixel774</th>\n",
              "      <th>pixel775</th>\n",
              "      <th>pixel776</th>\n",
              "      <th>pixel777</th>\n",
              "      <th>pixel778</th>\n",
              "      <th>pixel779</th>\n",
              "      <th>pixel780</th>\n",
              "      <th>pixel781</th>\n",
              "      <th>pixel782</th>\n",
              "      <th>pixel783</th>\n",
              "    </tr>\n",
              "  </thead>\n",
              "  <tbody>\n",
              "    <tr>\n",
              "      <th>0</th>\n",
              "      <td>0.0</td>\n",
              "      <td>0.0</td>\n",
              "      <td>0.0</td>\n",
              "      <td>0.0</td>\n",
              "      <td>0.0</td>\n",
              "      <td>0.0</td>\n",
              "      <td>0.0</td>\n",
              "      <td>0.0</td>\n",
              "      <td>0.0</td>\n",
              "      <td>0.0</td>\n",
              "      <td>0.0</td>\n",
              "      <td>0.0</td>\n",
              "      <td>0.0</td>\n",
              "      <td>0.0</td>\n",
              "      <td>0.0</td>\n",
              "      <td>0.0</td>\n",
              "      <td>0.0</td>\n",
              "      <td>0.0</td>\n",
              "      <td>0.0</td>\n",
              "      <td>0.0</td>\n",
              "      <td>0.0</td>\n",
              "      <td>0.0</td>\n",
              "      <td>0.0</td>\n",
              "      <td>0.0</td>\n",
              "      <td>0.0</td>\n",
              "      <td>0.0</td>\n",
              "      <td>0.0</td>\n",
              "      <td>0.0</td>\n",
              "      <td>0.0</td>\n",
              "      <td>0.0</td>\n",
              "      <td>0.0</td>\n",
              "      <td>0.0</td>\n",
              "      <td>0.0</td>\n",
              "      <td>0.0</td>\n",
              "      <td>0.0</td>\n",
              "      <td>0.0</td>\n",
              "      <td>0.0</td>\n",
              "      <td>0.0</td>\n",
              "      <td>0.0</td>\n",
              "      <td>0.0</td>\n",
              "      <td>...</td>\n",
              "      <td>0.0</td>\n",
              "      <td>0.0</td>\n",
              "      <td>0.0</td>\n",
              "      <td>0.0</td>\n",
              "      <td>0.0</td>\n",
              "      <td>0.0</td>\n",
              "      <td>0.0</td>\n",
              "      <td>0.0</td>\n",
              "      <td>0.0</td>\n",
              "      <td>0.0</td>\n",
              "      <td>0.0</td>\n",
              "      <td>0.0</td>\n",
              "      <td>0.0</td>\n",
              "      <td>0.0</td>\n",
              "      <td>0.0</td>\n",
              "      <td>0.0</td>\n",
              "      <td>0.0</td>\n",
              "      <td>0.0</td>\n",
              "      <td>0.0</td>\n",
              "      <td>0.0</td>\n",
              "      <td>0.0</td>\n",
              "      <td>0.0</td>\n",
              "      <td>0.0</td>\n",
              "      <td>0.0</td>\n",
              "      <td>0.0</td>\n",
              "      <td>0.0</td>\n",
              "      <td>0.0</td>\n",
              "      <td>0.0</td>\n",
              "      <td>0.0</td>\n",
              "      <td>0.0</td>\n",
              "      <td>0.0</td>\n",
              "      <td>0.0</td>\n",
              "      <td>0.0</td>\n",
              "      <td>0.0</td>\n",
              "      <td>0.0</td>\n",
              "      <td>0.0</td>\n",
              "      <td>0.0</td>\n",
              "      <td>0.0</td>\n",
              "      <td>0.0</td>\n",
              "      <td>0.0</td>\n",
              "    </tr>\n",
              "    <tr>\n",
              "      <th>1</th>\n",
              "      <td>0.0</td>\n",
              "      <td>0.0</td>\n",
              "      <td>0.0</td>\n",
              "      <td>0.0</td>\n",
              "      <td>0.0</td>\n",
              "      <td>0.0</td>\n",
              "      <td>0.0</td>\n",
              "      <td>0.0</td>\n",
              "      <td>0.0</td>\n",
              "      <td>0.0</td>\n",
              "      <td>0.0</td>\n",
              "      <td>0.0</td>\n",
              "      <td>0.0</td>\n",
              "      <td>0.0</td>\n",
              "      <td>0.0</td>\n",
              "      <td>0.0</td>\n",
              "      <td>0.0</td>\n",
              "      <td>0.0</td>\n",
              "      <td>0.0</td>\n",
              "      <td>0.0</td>\n",
              "      <td>0.0</td>\n",
              "      <td>0.0</td>\n",
              "      <td>0.0</td>\n",
              "      <td>0.0</td>\n",
              "      <td>0.0</td>\n",
              "      <td>0.0</td>\n",
              "      <td>0.0</td>\n",
              "      <td>0.0</td>\n",
              "      <td>0.0</td>\n",
              "      <td>0.0</td>\n",
              "      <td>0.0</td>\n",
              "      <td>0.0</td>\n",
              "      <td>0.0</td>\n",
              "      <td>0.0</td>\n",
              "      <td>0.0</td>\n",
              "      <td>0.0</td>\n",
              "      <td>0.0</td>\n",
              "      <td>0.0</td>\n",
              "      <td>0.0</td>\n",
              "      <td>0.0</td>\n",
              "      <td>...</td>\n",
              "      <td>0.0</td>\n",
              "      <td>0.0</td>\n",
              "      <td>0.0</td>\n",
              "      <td>0.0</td>\n",
              "      <td>0.0</td>\n",
              "      <td>0.0</td>\n",
              "      <td>0.0</td>\n",
              "      <td>0.0</td>\n",
              "      <td>0.0</td>\n",
              "      <td>0.0</td>\n",
              "      <td>0.0</td>\n",
              "      <td>0.0</td>\n",
              "      <td>0.0</td>\n",
              "      <td>0.0</td>\n",
              "      <td>0.0</td>\n",
              "      <td>0.0</td>\n",
              "      <td>0.0</td>\n",
              "      <td>0.0</td>\n",
              "      <td>0.0</td>\n",
              "      <td>0.0</td>\n",
              "      <td>0.0</td>\n",
              "      <td>0.0</td>\n",
              "      <td>0.0</td>\n",
              "      <td>0.0</td>\n",
              "      <td>0.0</td>\n",
              "      <td>0.0</td>\n",
              "      <td>0.0</td>\n",
              "      <td>0.0</td>\n",
              "      <td>0.0</td>\n",
              "      <td>0.0</td>\n",
              "      <td>0.0</td>\n",
              "      <td>0.0</td>\n",
              "      <td>0.0</td>\n",
              "      <td>0.0</td>\n",
              "      <td>0.0</td>\n",
              "      <td>0.0</td>\n",
              "      <td>0.0</td>\n",
              "      <td>0.0</td>\n",
              "      <td>0.0</td>\n",
              "      <td>0.0</td>\n",
              "    </tr>\n",
              "    <tr>\n",
              "      <th>2</th>\n",
              "      <td>0.0</td>\n",
              "      <td>0.0</td>\n",
              "      <td>0.0</td>\n",
              "      <td>0.0</td>\n",
              "      <td>0.0</td>\n",
              "      <td>0.0</td>\n",
              "      <td>0.0</td>\n",
              "      <td>0.0</td>\n",
              "      <td>0.0</td>\n",
              "      <td>0.0</td>\n",
              "      <td>0.0</td>\n",
              "      <td>0.0</td>\n",
              "      <td>0.0</td>\n",
              "      <td>0.0</td>\n",
              "      <td>0.0</td>\n",
              "      <td>0.0</td>\n",
              "      <td>0.0</td>\n",
              "      <td>0.0</td>\n",
              "      <td>0.0</td>\n",
              "      <td>0.0</td>\n",
              "      <td>0.0</td>\n",
              "      <td>0.0</td>\n",
              "      <td>0.0</td>\n",
              "      <td>0.0</td>\n",
              "      <td>0.0</td>\n",
              "      <td>0.0</td>\n",
              "      <td>0.0</td>\n",
              "      <td>0.0</td>\n",
              "      <td>0.0</td>\n",
              "      <td>0.0</td>\n",
              "      <td>0.0</td>\n",
              "      <td>0.0</td>\n",
              "      <td>0.0</td>\n",
              "      <td>0.0</td>\n",
              "      <td>0.0</td>\n",
              "      <td>0.0</td>\n",
              "      <td>0.0</td>\n",
              "      <td>0.0</td>\n",
              "      <td>0.0</td>\n",
              "      <td>0.0</td>\n",
              "      <td>...</td>\n",
              "      <td>0.0</td>\n",
              "      <td>0.0</td>\n",
              "      <td>0.0</td>\n",
              "      <td>0.0</td>\n",
              "      <td>0.0</td>\n",
              "      <td>0.0</td>\n",
              "      <td>0.0</td>\n",
              "      <td>0.0</td>\n",
              "      <td>0.0</td>\n",
              "      <td>0.0</td>\n",
              "      <td>0.0</td>\n",
              "      <td>0.0</td>\n",
              "      <td>0.0</td>\n",
              "      <td>0.0</td>\n",
              "      <td>0.0</td>\n",
              "      <td>0.0</td>\n",
              "      <td>0.0</td>\n",
              "      <td>0.0</td>\n",
              "      <td>0.0</td>\n",
              "      <td>0.0</td>\n",
              "      <td>0.0</td>\n",
              "      <td>0.0</td>\n",
              "      <td>0.0</td>\n",
              "      <td>0.0</td>\n",
              "      <td>0.0</td>\n",
              "      <td>0.0</td>\n",
              "      <td>0.0</td>\n",
              "      <td>0.0</td>\n",
              "      <td>0.0</td>\n",
              "      <td>0.0</td>\n",
              "      <td>0.0</td>\n",
              "      <td>0.0</td>\n",
              "      <td>0.0</td>\n",
              "      <td>0.0</td>\n",
              "      <td>0.0</td>\n",
              "      <td>0.0</td>\n",
              "      <td>0.0</td>\n",
              "      <td>0.0</td>\n",
              "      <td>0.0</td>\n",
              "      <td>0.0</td>\n",
              "    </tr>\n",
              "    <tr>\n",
              "      <th>3</th>\n",
              "      <td>0.0</td>\n",
              "      <td>0.0</td>\n",
              "      <td>0.0</td>\n",
              "      <td>0.0</td>\n",
              "      <td>0.0</td>\n",
              "      <td>0.0</td>\n",
              "      <td>0.0</td>\n",
              "      <td>0.0</td>\n",
              "      <td>0.0</td>\n",
              "      <td>0.0</td>\n",
              "      <td>0.0</td>\n",
              "      <td>0.0</td>\n",
              "      <td>0.0</td>\n",
              "      <td>0.0</td>\n",
              "      <td>0.0</td>\n",
              "      <td>0.0</td>\n",
              "      <td>0.0</td>\n",
              "      <td>0.0</td>\n",
              "      <td>0.0</td>\n",
              "      <td>0.0</td>\n",
              "      <td>0.0</td>\n",
              "      <td>0.0</td>\n",
              "      <td>0.0</td>\n",
              "      <td>0.0</td>\n",
              "      <td>0.0</td>\n",
              "      <td>0.0</td>\n",
              "      <td>0.0</td>\n",
              "      <td>0.0</td>\n",
              "      <td>0.0</td>\n",
              "      <td>0.0</td>\n",
              "      <td>0.0</td>\n",
              "      <td>0.0</td>\n",
              "      <td>0.0</td>\n",
              "      <td>0.0</td>\n",
              "      <td>0.0</td>\n",
              "      <td>0.0</td>\n",
              "      <td>0.0</td>\n",
              "      <td>0.0</td>\n",
              "      <td>0.0</td>\n",
              "      <td>0.0</td>\n",
              "      <td>...</td>\n",
              "      <td>0.0</td>\n",
              "      <td>0.0</td>\n",
              "      <td>0.0</td>\n",
              "      <td>0.0</td>\n",
              "      <td>0.0</td>\n",
              "      <td>0.0</td>\n",
              "      <td>0.0</td>\n",
              "      <td>0.0</td>\n",
              "      <td>0.0</td>\n",
              "      <td>0.0</td>\n",
              "      <td>0.0</td>\n",
              "      <td>0.0</td>\n",
              "      <td>0.0</td>\n",
              "      <td>0.0</td>\n",
              "      <td>0.0</td>\n",
              "      <td>0.0</td>\n",
              "      <td>0.0</td>\n",
              "      <td>0.0</td>\n",
              "      <td>0.0</td>\n",
              "      <td>0.0</td>\n",
              "      <td>0.0</td>\n",
              "      <td>0.0</td>\n",
              "      <td>0.0</td>\n",
              "      <td>0.0</td>\n",
              "      <td>0.0</td>\n",
              "      <td>0.0</td>\n",
              "      <td>0.0</td>\n",
              "      <td>0.0</td>\n",
              "      <td>0.0</td>\n",
              "      <td>0.0</td>\n",
              "      <td>0.0</td>\n",
              "      <td>0.0</td>\n",
              "      <td>0.0</td>\n",
              "      <td>0.0</td>\n",
              "      <td>0.0</td>\n",
              "      <td>0.0</td>\n",
              "      <td>0.0</td>\n",
              "      <td>0.0</td>\n",
              "      <td>0.0</td>\n",
              "      <td>0.0</td>\n",
              "    </tr>\n",
              "    <tr>\n",
              "      <th>4</th>\n",
              "      <td>0.0</td>\n",
              "      <td>0.0</td>\n",
              "      <td>0.0</td>\n",
              "      <td>0.0</td>\n",
              "      <td>0.0</td>\n",
              "      <td>0.0</td>\n",
              "      <td>0.0</td>\n",
              "      <td>0.0</td>\n",
              "      <td>0.0</td>\n",
              "      <td>0.0</td>\n",
              "      <td>0.0</td>\n",
              "      <td>0.0</td>\n",
              "      <td>0.0</td>\n",
              "      <td>0.0</td>\n",
              "      <td>0.0</td>\n",
              "      <td>0.0</td>\n",
              "      <td>0.0</td>\n",
              "      <td>0.0</td>\n",
              "      <td>0.0</td>\n",
              "      <td>0.0</td>\n",
              "      <td>0.0</td>\n",
              "      <td>0.0</td>\n",
              "      <td>0.0</td>\n",
              "      <td>0.0</td>\n",
              "      <td>0.0</td>\n",
              "      <td>0.0</td>\n",
              "      <td>0.0</td>\n",
              "      <td>0.0</td>\n",
              "      <td>0.0</td>\n",
              "      <td>0.0</td>\n",
              "      <td>0.0</td>\n",
              "      <td>0.0</td>\n",
              "      <td>0.0</td>\n",
              "      <td>0.0</td>\n",
              "      <td>0.0</td>\n",
              "      <td>0.0</td>\n",
              "      <td>0.0</td>\n",
              "      <td>0.0</td>\n",
              "      <td>0.0</td>\n",
              "      <td>0.0</td>\n",
              "      <td>...</td>\n",
              "      <td>0.0</td>\n",
              "      <td>0.0</td>\n",
              "      <td>0.0</td>\n",
              "      <td>0.0</td>\n",
              "      <td>0.0</td>\n",
              "      <td>0.0</td>\n",
              "      <td>0.0</td>\n",
              "      <td>0.0</td>\n",
              "      <td>0.0</td>\n",
              "      <td>0.0</td>\n",
              "      <td>0.0</td>\n",
              "      <td>0.0</td>\n",
              "      <td>0.0</td>\n",
              "      <td>0.0</td>\n",
              "      <td>0.0</td>\n",
              "      <td>0.0</td>\n",
              "      <td>0.0</td>\n",
              "      <td>0.0</td>\n",
              "      <td>0.0</td>\n",
              "      <td>0.0</td>\n",
              "      <td>0.0</td>\n",
              "      <td>0.0</td>\n",
              "      <td>0.0</td>\n",
              "      <td>0.0</td>\n",
              "      <td>0.0</td>\n",
              "      <td>0.0</td>\n",
              "      <td>0.0</td>\n",
              "      <td>0.0</td>\n",
              "      <td>0.0</td>\n",
              "      <td>0.0</td>\n",
              "      <td>0.0</td>\n",
              "      <td>0.0</td>\n",
              "      <td>0.0</td>\n",
              "      <td>0.0</td>\n",
              "      <td>0.0</td>\n",
              "      <td>0.0</td>\n",
              "      <td>0.0</td>\n",
              "      <td>0.0</td>\n",
              "      <td>0.0</td>\n",
              "      <td>0.0</td>\n",
              "    </tr>\n",
              "  </tbody>\n",
              "</table>\n",
              "<p>5 rows × 784 columns</p>\n",
              "</div>"
            ],
            "text/plain": [
              "   pixel0  pixel1  pixel2  pixel3  ...  pixel780  pixel781  pixel782  pixel783\n",
              "0     0.0     0.0     0.0     0.0  ...       0.0       0.0       0.0       0.0\n",
              "1     0.0     0.0     0.0     0.0  ...       0.0       0.0       0.0       0.0\n",
              "2     0.0     0.0     0.0     0.0  ...       0.0       0.0       0.0       0.0\n",
              "3     0.0     0.0     0.0     0.0  ...       0.0       0.0       0.0       0.0\n",
              "4     0.0     0.0     0.0     0.0  ...       0.0       0.0       0.0       0.0\n",
              "\n",
              "[5 rows x 784 columns]"
            ]
          },
          "metadata": {
            "tags": []
          },
          "execution_count": 12
        }
      ]
    },
    {
      "cell_type": "code",
      "metadata": {
        "id": "hMAOCJ_wJgIl"
      },
      "source": [
        "from tensorflow.keras import Sequential, Input\n",
        "from tensorflow.keras.layers import Dense, Conv2D, MaxPool2D, Flatten, Dropout\n",
        "from tensorflow.keras.callbacks import ReduceLROnPlateau, EarlyStopping"
      ],
      "execution_count": 13,
      "outputs": []
    },
    {
      "cell_type": "code",
      "metadata": {
        "id": "0ZGNsKD1Jta-"
      },
      "source": [
        "data_images = []\n",
        "for i in range(x_train.shape[0]):\n",
        "    store = np.asarray(x_train.loc[[i][0]])\n",
        "    store = store.reshape(28,28)\n",
        "    data_images.append(store)"
      ],
      "execution_count": 14,
      "outputs": []
    },
    {
      "cell_type": "code",
      "metadata": {
        "id": "sBnAB3KgJvHI"
      },
      "source": [
        "data_images = np.asarray(data_images)"
      ],
      "execution_count": 15,
      "outputs": []
    },
    {
      "cell_type": "code",
      "metadata": {
        "id": "3yxiIVIPJxdw",
        "outputId": "717e5191-5f89-495b-82f2-19e83f041dbb",
        "colab": {
          "base_uri": "https://localhost:8080/",
          "height": 282
        }
      },
      "source": [
        "plt.imshow(data_images[20])"
      ],
      "execution_count": 16,
      "outputs": [
        {
          "output_type": "execute_result",
          "data": {
            "text/plain": [
              "<matplotlib.image.AxesImage at 0x7f7a60d34320>"
            ]
          },
          "metadata": {
            "tags": []
          },
          "execution_count": 16
        },
        {
          "output_type": "display_data",
          "data": {
            "image/png": "[encoded data removed]",
            "text/plain": [
              "<Figure size 432x288 with 1 Axes>"
            ]
          },
          "metadata": {
            "tags": [],
            "needs_background": "light"
          }
        }
      ]
    },
    {
      "cell_type": "code",
      "metadata": {
        "id": "hl744m90Jylq",
        "outputId": "720734d9-5264-4179-9e79-448dbf425f23",
        "colab": {
          "base_uri": "https://localhost:8080/",
          "height": 34
        }
      },
      "source": [
        "data_images.shape"
      ],
      "execution_count": 17,
      "outputs": [
        {
          "output_type": "execute_result",
          "data": {
            "text/plain": [
              "(42000, 28, 28)"
            ]
          },
          "metadata": {
            "tags": []
          },
          "execution_count": 17
        }
      ]
    },
    {
      "cell_type": "code",
      "metadata": {
        "id": "bkQlUwTDLk9Q",
        "outputId": "8367c08a-a08b-4577-eea1-cb1ec74bffd3",
        "colab": {
          "base_uri": "https://localhost:8080/",
          "height": 34
        }
      },
      "source": [
        "data_images[1].max()"
      ],
      "execution_count": 18,
      "outputs": [
        {
          "output_type": "execute_result",
          "data": {
            "text/plain": [
              "1.0"
            ]
          },
          "metadata": {
            "tags": []
          },
          "execution_count": 18
        }
      ]
    },
    {
      "cell_type": "code",
      "metadata": {
        "id": "MZNHKIr0Lple",
        "outputId": "bc4ec201-08b8-4673-fbd0-2ed3e880e30d",
        "colab": {
          "base_uri": "https://localhost:8080/",
          "height": 34
        }
      },
      "source": [
        "data_images[1].min()"
      ],
      "execution_count": 19,
      "outputs": [
        {
          "output_type": "execute_result",
          "data": {
            "text/plain": [
              "0.0"
            ]
          },
          "metadata": {
            "tags": []
          },
          "execution_count": 19
        }
      ]
    },
    {
      "cell_type": "code",
      "metadata": {
        "id": "c3Lz0spdJ0Vd"
      },
      "source": [
        "x_train = data_images.reshape(42000,28,28,1)"
      ],
      "execution_count": 20,
      "outputs": []
    },
    {
      "cell_type": "code",
      "metadata": {
        "id": "9KwxNAPvtLW0"
      },
      "source": [
        "from keras.preprocessing.image import ImageDataGenerator\n",
        "dataGen = ImageDataGenerator(rotation_range=30, zoom_range=[0.9,1.1])\n",
        "dataGen.fit(x_train)"
      ],
      "execution_count": 87,
      "outputs": []
    },
    {
      "cell_type": "code",
      "metadata": {
        "id": "xY1Q9IhMLS6r",
        "outputId": "89719f6a-1838-45e0-f480-703c9396ae47",
        "colab": {
          "base_uri": "https://localhost:8080/",
          "height": 51
        }
      },
      "source": [
        "# Load the TensorBoard notebook extension\n",
        "%load_ext tensorboard\n",
        "import datetime, os"
      ],
      "execution_count": 88,
      "outputs": [
        {
          "output_type": "stream",
          "text": [
            "The tensorboard extension is already loaded. To reload it, use:\n",
            "  %reload_ext tensorboard\n"
          ],
          "name": "stdout"
        }
      ]
    },
    {
      "cell_type": "code",
      "metadata": {
        "id": "xwoOhSFcJ3Gl"
      },
      "source": [
        "model = Sequential()\n",
        "\n",
        "# CONVOLUTIONAL LAYER\n",
        "model.add(Conv2D(filters=32, kernel_size=(3,3),input_shape=(28, 28, 1), activation='relu'))\n",
        "\n",
        "# CONVOLUTIONAL LAYER\n",
        "model.add(Conv2D(filters=64, kernel_size=(3,3),input_shape=(28, 28, 1), activation='relu'))\n",
        "\n",
        "# POOLING LAYER\n",
        "model.add(MaxPool2D(pool_size=(2, 2)))\n",
        "\n",
        "# POOLING LAYER\n",
        "model.add(Dropout(0.2))\n",
        "\n",
        "# CONVOLUTIONAL LAYER\n",
        "model.add(Conv2D(filters=126, kernel_size=(3,3), activation='relu'))\n",
        "\n",
        "# CONVOLUTIONAL LAYER\n",
        "model.add(Conv2D(filters=256, kernel_size=(3,3), activation='relu'))\n",
        "\n",
        "# CONVOLUTIONAL LAYER\n",
        "model.add(Conv2D(filters=512, kernel_size=(3,3), activation='relu'))\n",
        "\n",
        "# CONVOLUTIONAL LAYER\n",
        "model.add(Conv2D(filters=1024, kernel_size=(3,3), activation='relu'))\n",
        "\n",
        "# CONVOLUTIONAL LAYER\n",
        "model.add(Conv2D(filters=512, kernel_size=(3,3), activation='relu'))\n",
        "\n",
        "# POOLING LAYER\n",
        "model.add(MaxPool2D(pool_size=(2, 2)))\n",
        "\n",
        "# Drop Layer\n",
        "model.add(Dropout(0.2))\n",
        "\n",
        "# FLATTEN IMAGES FROM 28 by 28 to 764 BEFORE FINAL LAYER\n",
        "model.add(Flatten())\n",
        "\n",
        "# 128 NEURONS IN DENSE HIDDEN LAYER (YOU CAN CHANGE THIS NUMBER OF NEURONS)\n",
        "model.add(Dense(128, activation='relu'))\n",
        "\n",
        "model.add(Dense(64, activation='relu'))\n",
        "\n",
        "\n",
        "# LAST LAYER IS THE CLASSIFIER, THUS 10 POSSIBLE CLASSES\n",
        "model.add(Dense(10, activation='softmax'))\n",
        "\n",
        "\n",
        "model.compile(loss='categorical_crossentropy',\n",
        "              optimizer='rmsprop',\n",
        "              metrics=['accuracy'])\n",
        "\n",
        "reduce_lr = ReduceLROnPlateau(monitor='accuracy', \n",
        "                                            patience=7, \n",
        "                                            verbose=1, \n",
        "                                            factor=0.75, \n",
        "                                            min_lr=0.00005)\n",
        "logdir = os.path.join(\"logs\", datetime.datetime.today().strftime('%Y-%m-%d-%H:%M:%S'))\n",
        "tensorboard_callback = tf.keras.callbacks.TensorBoard(logdir, histogram_freq=1)\n",
        "\n",
        "\n",
        "early_stop = EarlyStopping(\n",
        "    monitor=\"accuracy\",\n",
        "    min_delta=0.0001,\n",
        "    patience=12,\n",
        "    verbose=1,\n",
        "    mode=\"auto\",\n",
        "    baseline=None,\n",
        "    restore_best_weights=False,\n",
        ")"
      ],
      "execution_count": 92,
      "outputs": []
    },
    {
      "cell_type": "code",
      "metadata": {
        "id": "1B1WEeOpJ4tc",
        "outputId": "d5c43aba-098d-4c19-9e6b-a2090e8c9695",
        "colab": {
          "base_uri": "https://localhost:8080/",
          "height": 663
        }
      },
      "source": [
        "model.summary()"
      ],
      "execution_count": 93,
      "outputs": [
        {
          "output_type": "stream",
          "text": [
            "Model: \"sequential_7\"\n",
            "_________________________________________________________________\n",
            "Layer (type)                 Output Shape              Param #   \n",
            "=================================================================\n",
            "conv2d_44 (Conv2D)           (None, 26, 26, 32)        320       \n",
            "_________________________________________________________________\n",
            "conv2d_45 (Conv2D)           (None, 24, 24, 64)        18496     \n",
            "_________________________________________________________________\n",
            "max_pooling2d_14 (MaxPooling (None, 12, 12, 64)        0         \n",
            "_________________________________________________________________\n",
            "dropout_14 (Dropout)         (None, 12, 12, 64)        0         \n",
            "_________________________________________________________________\n",
            "conv2d_46 (Conv2D)           (None, 10, 10, 126)       72702     \n",
            "_________________________________________________________________\n",
            "conv2d_47 (Conv2D)           (None, 8, 8, 256)         290560    \n",
            "_________________________________________________________________\n",
            "conv2d_48 (Conv2D)           (None, 6, 6, 512)         1180160   \n",
            "_________________________________________________________________\n",
            "conv2d_49 (Conv2D)           (None, 4, 4, 1024)        4719616   \n",
            "_________________________________________________________________\n",
            "conv2d_50 (Conv2D)           (None, 2, 2, 512)         4719104   \n",
            "_________________________________________________________________\n",
            "max_pooling2d_15 (MaxPooling (None, 1, 1, 512)         0         \n",
            "_________________________________________________________________\n",
            "dropout_15 (Dropout)         (None, 1, 1, 512)         0         \n",
            "_________________________________________________________________\n",
            "flatten_7 (Flatten)          (None, 512)               0         \n",
            "_________________________________________________________________\n",
            "dense_21 (Dense)             (None, 128)               65664     \n",
            "_________________________________________________________________\n",
            "dense_22 (Dense)             (None, 64)                8256      \n",
            "_________________________________________________________________\n",
            "dense_23 (Dense)             (None, 10)                650       \n",
            "=================================================================\n",
            "Total params: 11,075,528\n",
            "Trainable params: 11,075,528\n",
            "Non-trainable params: 0\n",
            "_________________________________________________________________\n"
          ],
          "name": "stdout"
        }
      ]
    },
    {
      "cell_type": "code",
      "metadata": {
        "id": "PgjdifQ4ZhR1",
        "outputId": "429324b4-f2f0-4c67-b83f-d77bdf617ba5",
        "colab": {
          "base_uri": "https://localhost:8080/",
          "height": 34
        }
      },
      "source": [
        "int(x_train.shape[0]/8)"
      ],
      "execution_count": 94,
      "outputs": [
        {
          "output_type": "execute_result",
          "data": {
            "text/plain": [
              "5250"
            ]
          },
          "metadata": {
            "tags": []
          },
          "execution_count": 94
        }
      ]
    },
    {
      "cell_type": "code",
      "metadata": {
        "id": "Ne5gS2ZJtvbN"
      },
      "source": [
        "train_gen = dataGen.flow(x_train, y_train, batch_size=int(x_train.shape[0]/8))"
      ],
      "execution_count": 95,
      "outputs": []
    },
    {
      "cell_type": "code",
      "metadata": {
        "id": "hQoai9d_KSUp",
        "outputId": "bfccb766-dc47-408b-c3fb-59230a17dba0",
        "colab": {
          "base_uri": "https://localhost:8080/",
          "height": 1000
        }
      },
      "source": [
        "model.fit(train_gen, epochs=500, callbacks=[tensorboard_callback, reduce_lr, early_stop])"
      ],
      "execution_count": 96,
      "outputs": [
        {
          "output_type": "stream",
          "text": [
            "Epoch 1/500\n",
            "2/8 [======>.......................] - ETA: 11s - loss: 3.5683 - accuracy: 0.0970WARNING:tensorflow:Callbacks method `on_train_batch_end` is slow compared to the batch time (batch time: 0.7948s vs `on_train_batch_end` time: 3.0439s). Check your callbacks.\n"
          ],
          "name": "stdout"
        },
        {
          "output_type": "stream",
          "text": [
            "WARNING:tensorflow:Callbacks method `on_train_batch_end` is slow compared to the batch time (batch time: 0.7948s vs `on_train_batch_end` time: 3.0439s). Check your callbacks.\n"
          ],
          "name": "stderr"
        },
        {
          "output_type": "stream",
          "text": [
            "8/8 [==============================] - 26s 3s/step - loss: 2.6360 - accuracy: 0.1035\n",
            "Epoch 2/500\n",
            "8/8 [==============================] - 25s 3s/step - loss: 2.6909 - accuracy: 0.1860\n",
            "Epoch 3/500\n",
            "8/8 [==============================] - 25s 3s/step - loss: 2.3513 - accuracy: 0.1910\n",
            "Epoch 4/500\n",
            "8/8 [==============================] - 25s 3s/step - loss: 2.0970 - accuracy: 0.2783\n",
            "Epoch 5/500\n",
            "8/8 [==============================] - 25s 3s/step - loss: 1.7477 - accuracy: 0.4003\n",
            "Epoch 6/500\n",
            "8/8 [==============================] - 25s 3s/step - loss: 1.6212 - accuracy: 0.4589\n",
            "Epoch 7/500\n",
            "8/8 [==============================] - 25s 3s/step - loss: 1.4555 - accuracy: 0.5012\n",
            "Epoch 8/500\n",
            "8/8 [==============================] - 25s 3s/step - loss: 1.2683 - accuracy: 0.5860\n",
            "Epoch 9/500\n",
            "8/8 [==============================] - 25s 3s/step - loss: 1.1848 - accuracy: 0.6152\n",
            "Epoch 10/500\n",
            "8/8 [==============================] - 25s 3s/step - loss: 1.0939 - accuracy: 0.6438\n",
            "Epoch 11/500\n",
            "8/8 [==============================] - 25s 3s/step - loss: 0.7423 - accuracy: 0.7645\n",
            "Epoch 12/500\n",
            "8/8 [==============================] - 25s 3s/step - loss: 0.6003 - accuracy: 0.8071\n",
            "Epoch 13/500\n",
            "8/8 [==============================] - 25s 3s/step - loss: 0.6858 - accuracy: 0.7788\n",
            "Epoch 14/500\n",
            "8/8 [==============================] - 25s 3s/step - loss: 0.3773 - accuracy: 0.8779\n",
            "Epoch 15/500\n",
            "8/8 [==============================] - 25s 3s/step - loss: 0.2940 - accuracy: 0.9098\n",
            "Epoch 16/500\n",
            "8/8 [==============================] - 25s 3s/step - loss: 0.4630 - accuracy: 0.8568\n",
            "Epoch 17/500\n",
            "8/8 [==============================] - 25s 3s/step - loss: 0.2939 - accuracy: 0.9133\n",
            "Epoch 18/500\n",
            "8/8 [==============================] - 25s 3s/step - loss: 0.2624 - accuracy: 0.9165\n",
            "Epoch 19/500\n",
            "8/8 [==============================] - 25s 3s/step - loss: 0.1447 - accuracy: 0.9555\n",
            "Epoch 20/500\n",
            "8/8 [==============================] - 25s 3s/step - loss: 0.2643 - accuracy: 0.9196\n",
            "Epoch 21/500\n",
            "8/8 [==============================] - 25s 3s/step - loss: 0.1440 - accuracy: 0.9554\n",
            "Epoch 22/500\n",
            "8/8 [==============================] - 25s 3s/step - loss: 0.1558 - accuracy: 0.9544\n",
            "Epoch 23/500\n",
            "8/8 [==============================] - 25s 3s/step - loss: 0.7063 - accuracy: 0.8263\n",
            "Epoch 24/500\n",
            "8/8 [==============================] - 25s 3s/step - loss: 0.0965 - accuracy: 0.9692\n",
            "Epoch 25/500\n",
            "8/8 [==============================] - 25s 3s/step - loss: 0.0982 - accuracy: 0.9699\n",
            "Epoch 26/500\n",
            "8/8 [==============================] - 25s 3s/step - loss: 0.1067 - accuracy: 0.9681\n",
            "Epoch 27/500\n",
            "8/8 [==============================] - 25s 3s/step - loss: 0.1003 - accuracy: 0.9694\n",
            "Epoch 28/500\n",
            "8/8 [==============================] - 25s 3s/step - loss: 0.1589 - accuracy: 0.9530\n",
            "Epoch 29/500\n",
            "8/8 [==============================] - 25s 3s/step - loss: 0.1027 - accuracy: 0.9685\n",
            "Epoch 30/500\n",
            "8/8 [==============================] - 25s 3s/step - loss: 0.0930 - accuracy: 0.9737\n",
            "Epoch 31/500\n",
            "8/8 [==============================] - 25s 3s/step - loss: 0.1150 - accuracy: 0.9690\n",
            "Epoch 32/500\n",
            "8/8 [==============================] - 25s 3s/step - loss: 0.2965 - accuracy: 0.9214\n",
            "Epoch 33/500\n",
            "8/8 [==============================] - 25s 3s/step - loss: 0.0555 - accuracy: 0.9831\n",
            "Epoch 34/500\n",
            "8/8 [==============================] - 25s 3s/step - loss: 0.0555 - accuracy: 0.9829\n",
            "Epoch 35/500\n",
            "8/8 [==============================] - 25s 3s/step - loss: 0.2380 - accuracy: 0.9325\n",
            "Epoch 36/500\n",
            "8/8 [==============================] - 25s 3s/step - loss: 0.0485 - accuracy: 0.9853\n",
            "Epoch 37/500\n",
            "8/8 [==============================] - 25s 3s/step - loss: 0.0489 - accuracy: 0.9849\n",
            "Epoch 38/500\n",
            "8/8 [==============================] - 25s 3s/step - loss: 0.0633 - accuracy: 0.9813\n",
            "Epoch 39/500\n",
            "8/8 [==============================] - 25s 3s/step - loss: 0.0505 - accuracy: 0.9851\n",
            "Epoch 40/500\n",
            "8/8 [==============================] - 25s 3s/step - loss: 0.1354 - accuracy: 0.9617\n",
            "Epoch 41/500\n",
            "8/8 [==============================] - 25s 3s/step - loss: 0.0396 - accuracy: 0.9879\n",
            "Epoch 42/500\n",
            "8/8 [==============================] - 25s 3s/step - loss: 0.0329 - accuracy: 0.9899\n",
            "Epoch 43/500\n",
            "8/8 [==============================] - 25s 3s/step - loss: 0.1313 - accuracy: 0.9633\n",
            "Epoch 44/500\n",
            "8/8 [==============================] - 25s 3s/step - loss: 0.1363 - accuracy: 0.9603\n",
            "Epoch 45/500\n",
            "8/8 [==============================] - 25s 3s/step - loss: 0.0320 - accuracy: 0.9903\n",
            "Epoch 46/500\n",
            "8/8 [==============================] - 25s 3s/step - loss: 0.0282 - accuracy: 0.9913\n",
            "Epoch 47/500\n",
            "8/8 [==============================] - 25s 3s/step - loss: 0.0429 - accuracy: 0.9872\n",
            "Epoch 48/500\n",
            "8/8 [==============================] - 25s 3s/step - loss: 0.1413 - accuracy: 0.9622\n",
            "Epoch 49/500\n",
            "8/8 [==============================] - 25s 3s/step - loss: 0.0295 - accuracy: 0.9903\n",
            "Epoch 50/500\n",
            "8/8 [==============================] - 25s 3s/step - loss: 0.0254 - accuracy: 0.9921\n",
            "Epoch 51/500\n",
            "8/8 [==============================] - 25s 3s/step - loss: 0.0368 - accuracy: 0.9895\n",
            "Epoch 52/500\n",
            "8/8 [==============================] - 25s 3s/step - loss: 0.0528 - accuracy: 0.9850\n",
            "Epoch 53/500\n",
            "8/8 [==============================] - 25s 3s/step - loss: 0.0304 - accuracy: 0.9905\n",
            "Epoch 54/500\n",
            "8/8 [==============================] - 25s 3s/step - loss: 0.0644 - accuracy: 0.9815\n",
            "Epoch 55/500\n",
            "8/8 [==============================] - 25s 3s/step - loss: 0.1000 - accuracy: 0.9708\n",
            "Epoch 56/500\n",
            "8/8 [==============================] - 25s 3s/step - loss: 0.0215 - accuracy: 0.9935\n",
            "Epoch 57/500\n",
            "8/8 [==============================] - 25s 3s/step - loss: 0.0226 - accuracy: 0.9930\n",
            "Epoch 58/500\n",
            "8/8 [==============================] - 25s 3s/step - loss: 0.0213 - accuracy: 0.9931\n",
            "Epoch 59/500\n",
            "8/8 [==============================] - 25s 3s/step - loss: 0.1113 - accuracy: 0.9709\n",
            "Epoch 60/500\n",
            "8/8 [==============================] - 25s 3s/step - loss: 0.0221 - accuracy: 0.9933\n",
            "Epoch 61/500\n",
            "8/8 [==============================] - 25s 3s/step - loss: 0.0180 - accuracy: 0.9946\n",
            "Epoch 62/500\n",
            "8/8 [==============================] - 25s 3s/step - loss: 0.0211 - accuracy: 0.9936\n",
            "Epoch 63/500\n",
            "8/8 [==============================] - 25s 3s/step - loss: 0.0363 - accuracy: 0.9893\n",
            "Epoch 64/500\n",
            "8/8 [==============================] - 25s 3s/step - loss: 0.0252 - accuracy: 0.9922\n",
            "Epoch 65/500\n",
            "8/8 [==============================] - 25s 3s/step - loss: 0.0550 - accuracy: 0.9862\n",
            "Epoch 66/500\n",
            "8/8 [==============================] - 25s 3s/step - loss: 0.0485 - accuracy: 0.9871\n",
            "Epoch 67/500\n",
            "8/8 [==============================] - 25s 3s/step - loss: 0.0164 - accuracy: 0.9952\n",
            "Epoch 68/500\n",
            "8/8 [==============================] - 25s 3s/step - loss: 0.0168 - accuracy: 0.9946\n",
            "Epoch 69/500\n",
            "8/8 [==============================] - 25s 3s/step - loss: 0.0193 - accuracy: 0.9939\n",
            "Epoch 70/500\n",
            "8/8 [==============================] - 25s 3s/step - loss: 0.0689 - accuracy: 0.9809\n",
            "Epoch 71/500\n",
            "8/8 [==============================] - 25s 3s/step - loss: 0.0133 - accuracy: 0.9956\n",
            "Epoch 72/500\n",
            "8/8 [==============================] - 25s 3s/step - loss: 0.0137 - accuracy: 0.9957\n",
            "Epoch 73/500\n",
            "8/8 [==============================] - 25s 3s/step - loss: 0.0720 - accuracy: 0.9804\n",
            "Epoch 74/500\n",
            "8/8 [==============================] - 25s 3s/step - loss: 0.0238 - accuracy: 0.9932\n",
            "Epoch 75/500\n",
            "8/8 [==============================] - 25s 3s/step - loss: 0.0135 - accuracy: 0.9960\n",
            "Epoch 76/500\n",
            "8/8 [==============================] - 25s 3s/step - loss: 0.0130 - accuracy: 0.9963\n",
            "Epoch 77/500\n",
            "8/8 [==============================] - 25s 3s/step - loss: 0.0140 - accuracy: 0.9959\n",
            "Epoch 78/500\n",
            "8/8 [==============================] - 25s 3s/step - loss: 0.0719 - accuracy: 0.9808\n",
            "Epoch 79/500\n",
            "8/8 [==============================] - 25s 3s/step - loss: 0.0172 - accuracy: 0.9949\n",
            "Epoch 80/500\n",
            "8/8 [==============================] - 25s 3s/step - loss: 0.0109 - accuracy: 0.9967\n",
            "Epoch 81/500\n",
            "8/8 [==============================] - 25s 3s/step - loss: 0.0155 - accuracy: 0.9954\n",
            "Epoch 82/500\n",
            "8/8 [==============================] - 25s 3s/step - loss: 0.0210 - accuracy: 0.9938\n",
            "Epoch 83/500\n",
            "8/8 [==============================] - 25s 3s/step - loss: 0.0136 - accuracy: 0.9959\n",
            "Epoch 84/500\n",
            "8/8 [==============================] - 25s 3s/step - loss: 0.0139 - accuracy: 0.9955\n",
            "Epoch 85/500\n",
            "8/8 [==============================] - 25s 3s/step - loss: 0.0922 - accuracy: 0.9775\n",
            "Epoch 86/500\n",
            "8/8 [==============================] - 25s 3s/step - loss: 0.0091 - accuracy: 0.9968\n",
            "Epoch 87/500\n",
            "8/8 [==============================] - 25s 3s/step - loss: 0.0093 - accuracy: 0.9974\n",
            "Epoch 88/500\n",
            "8/8 [==============================] - 25s 3s/step - loss: 0.0078 - accuracy: 0.9975\n",
            "Epoch 89/500\n",
            "8/8 [==============================] - 25s 3s/step - loss: 0.0200 - accuracy: 0.9939\n",
            "Epoch 90/500\n",
            "8/8 [==============================] - 25s 3s/step - loss: 0.0106 - accuracy: 0.9965\n",
            "Epoch 91/500\n",
            "8/8 [==============================] - 25s 3s/step - loss: 0.0133 - accuracy: 0.9959\n",
            "Epoch 92/500\n",
            "8/8 [==============================] - 25s 3s/step - loss: 0.0437 - accuracy: 0.9874\n",
            "Epoch 93/500\n",
            "8/8 [==============================] - 25s 3s/step - loss: 0.0070 - accuracy: 0.9980\n",
            "Epoch 94/500\n",
            "8/8 [==============================] - 25s 3s/step - loss: 0.0103 - accuracy: 0.9969\n",
            "Epoch 95/500\n",
            "8/8 [==============================] - 25s 3s/step - loss: 0.0242 - accuracy: 0.9929\n",
            "Epoch 96/500\n",
            "8/8 [==============================] - 25s 3s/step - loss: 0.0161 - accuracy: 0.9953\n",
            "Epoch 97/500\n",
            "8/8 [==============================] - 25s 3s/step - loss: 0.0062 - accuracy: 0.9980\n",
            "Epoch 98/500\n",
            "8/8 [==============================] - 25s 3s/step - loss: 0.0374 - accuracy: 0.9899\n",
            "Epoch 99/500\n",
            "8/8 [==============================] - 25s 3s/step - loss: 0.0063 - accuracy: 0.9982\n",
            "Epoch 100/500\n",
            "8/8 [==============================] - 25s 3s/step - loss: 0.0066 - accuracy: 0.9980\n",
            "Epoch 101/500\n",
            "8/8 [==============================] - 25s 3s/step - loss: 0.0117 - accuracy: 0.9962\n",
            "Epoch 102/500\n",
            "8/8 [==============================] - 25s 3s/step - loss: 0.0286 - accuracy: 0.9920\n",
            "Epoch 103/500\n",
            "8/8 [==============================] - 25s 3s/step - loss: 0.0057 - accuracy: 0.9983\n",
            "Epoch 104/500\n",
            "8/8 [==============================] - 25s 3s/step - loss: 0.0065 - accuracy: 0.9980\n",
            "Epoch 105/500\n",
            "8/8 [==============================] - 25s 3s/step - loss: 0.0175 - accuracy: 0.9951\n",
            "Epoch 106/500\n",
            "8/8 [==============================] - ETA: 0s - loss: 0.0204 - accuracy: 0.9937\n",
            "Epoch 00106: ReduceLROnPlateau reducing learning rate to 0.0007500000356230885.\n",
            "8/8 [==============================] - 25s 3s/step - loss: 0.0204 - accuracy: 0.9937\n",
            "Epoch 107/500\n",
            "8/8 [==============================] - 25s 3s/step - loss: 0.0057 - accuracy: 0.9982\n",
            "Epoch 108/500\n",
            "8/8 [==============================] - 25s 3s/step - loss: 0.0049 - accuracy: 0.9985\n",
            "Epoch 109/500\n",
            "8/8 [==============================] - 25s 3s/step - loss: 0.0039 - accuracy: 0.9989\n",
            "Epoch 110/500\n",
            "8/8 [==============================] - 25s 3s/step - loss: 0.0048 - accuracy: 0.9985\n",
            "Epoch 111/500\n",
            "8/8 [==============================] - 25s 3s/step - loss: 0.0085 - accuracy: 0.9973\n",
            "Epoch 112/500\n",
            "8/8 [==============================] - 25s 3s/step - loss: 0.0055 - accuracy: 0.9983\n",
            "Epoch 113/500\n",
            "8/8 [==============================] - 25s 3s/step - loss: 0.0059 - accuracy: 0.9982\n",
            "Epoch 114/500\n",
            "8/8 [==============================] - 25s 3s/step - loss: 0.0055 - accuracy: 0.9982\n",
            "Epoch 115/500\n",
            "8/8 [==============================] - 25s 3s/step - loss: 0.0056 - accuracy: 0.9986\n",
            "Epoch 116/500\n",
            "8/8 [==============================] - ETA: 0s - loss: 0.0069 - accuracy: 0.9978\n",
            "Epoch 00116: ReduceLROnPlateau reducing learning rate to 0.0005625000048894435.\n",
            "8/8 [==============================] - 25s 3s/step - loss: 0.0069 - accuracy: 0.9978\n",
            "Epoch 117/500\n",
            "8/8 [==============================] - 25s 3s/step - loss: 0.0037 - accuracy: 0.9989\n",
            "Epoch 118/500\n",
            "8/8 [==============================] - 25s 3s/step - loss: 0.0037 - accuracy: 0.9987\n",
            "Epoch 119/500\n",
            "8/8 [==============================] - 25s 3s/step - loss: 0.0038 - accuracy: 0.9986\n",
            "Epoch 120/500\n",
            "8/8 [==============================] - 25s 3s/step - loss: 0.0034 - accuracy: 0.9991\n",
            "Epoch 121/500\n",
            "8/8 [==============================] - 25s 3s/step - loss: 0.0029 - accuracy: 0.9992\n",
            "Epoch 122/500\n",
            "8/8 [==============================] - 25s 3s/step - loss: 0.0047 - accuracy: 0.9984\n",
            "Epoch 123/500\n",
            "8/8 [==============================] - 25s 3s/step - loss: 0.0033 - accuracy: 0.9989\n",
            "Epoch 124/500\n",
            "8/8 [==============================] - 25s 3s/step - loss: 0.0034 - accuracy: 0.9990\n",
            "Epoch 125/500\n",
            "8/8 [==============================] - 25s 3s/step - loss: 0.0036 - accuracy: 0.9989\n",
            "Epoch 126/500\n",
            "8/8 [==============================] - 25s 3s/step - loss: 0.0025 - accuracy: 0.9990\n",
            "Epoch 127/500\n",
            "8/8 [==============================] - 25s 3s/step - loss: 0.0042 - accuracy: 0.9986\n",
            "Epoch 128/500\n",
            "8/8 [==============================] - ETA: 0s - loss: 0.0030 - accuracy: 0.9988\n",
            "Epoch 00128: ReduceLROnPlateau reducing learning rate to 0.0004218749818392098.\n",
            "8/8 [==============================] - 25s 3s/step - loss: 0.0030 - accuracy: 0.9988\n",
            "Epoch 129/500\n",
            "8/8 [==============================] - 25s 3s/step - loss: 0.0025 - accuracy: 0.9993\n",
            "Epoch 130/500\n",
            "8/8 [==============================] - 25s 3s/step - loss: 0.0026 - accuracy: 0.9993\n",
            "Epoch 131/500\n",
            "8/8 [==============================] - 25s 3s/step - loss: 0.0022 - accuracy: 0.9993\n",
            "Epoch 132/500\n",
            "8/8 [==============================] - 25s 3s/step - loss: 0.0023 - accuracy: 0.9994\n",
            "Epoch 133/500\n",
            "8/8 [==============================] - 25s 3s/step - loss: 0.0019 - accuracy: 0.9995\n",
            "Epoch 134/500\n",
            "8/8 [==============================] - 25s 3s/step - loss: 0.0026 - accuracy: 0.9991\n",
            "Epoch 135/500\n",
            "8/8 [==============================] - 25s 3s/step - loss: 0.0022 - accuracy: 0.9992\n",
            "Epoch 136/500\n",
            "8/8 [==============================] - 25s 3s/step - loss: 0.0025 - accuracy: 0.9993\n",
            "Epoch 137/500\n",
            "8/8 [==============================] - 25s 3s/step - loss: 0.0024 - accuracy: 0.9992\n",
            "Epoch 138/500\n",
            "8/8 [==============================] - 25s 3s/step - loss: 0.0018 - accuracy: 0.9994\n",
            "Epoch 139/500\n",
            "8/8 [==============================] - 25s 3s/step - loss: 0.0022 - accuracy: 0.9993\n",
            "Epoch 140/500\n",
            "8/8 [==============================] - ETA: 0s - loss: 0.0021 - accuracy: 0.9993\n",
            "Epoch 00140: ReduceLROnPlateau reducing learning rate to 0.00031640623637940735.\n",
            "8/8 [==============================] - 25s 3s/step - loss: 0.0021 - accuracy: 0.9993\n",
            "Epoch 141/500\n",
            "8/8 [==============================] - 25s 3s/step - loss: 0.0016 - accuracy: 0.9995\n",
            "Epoch 142/500\n",
            "8/8 [==============================] - 25s 3s/step - loss: 0.0015 - accuracy: 0.9995\n",
            "Epoch 143/500\n",
            "8/8 [==============================] - 25s 3s/step - loss: 0.0013 - accuracy: 0.9995\n",
            "Epoch 144/500\n",
            "8/8 [==============================] - 25s 3s/step - loss: 0.0018 - accuracy: 0.9994\n",
            "Epoch 145/500\n",
            "8/8 [==============================] - 25s 3s/step - loss: 0.0017 - accuracy: 0.9994\n",
            "Epoch 00145: early stopping\n"
          ],
          "name": "stdout"
        },
        {
          "output_type": "execute_result",
          "data": {
            "text/plain": [
              "<tensorflow.python.keras.callbacks.History at 0x7f7a60d47160>"
            ]
          },
          "metadata": {
            "tags": []
          },
          "execution_count": 96
        }
      ]
    },
    {
      "cell_type": "code",
      "metadata": {
        "id": "SSxxO84XL4GK"
      },
      "source": [
        "# %tensorboard --logdir logs"
      ],
      "execution_count": 75,
      "outputs": []
    },
    {
      "cell_type": "code",
      "metadata": {
        "id": "4jkxvQ12KVkB"
      },
      "source": [
        "test_data = pd.read_csv('./test.csv')\n",
        "test_data = test_data / 255\n",
        "data_images = []\n",
        "for i in range(test_data.shape[0]):\n",
        "    store = np.asarray(test_data.loc[[i][0]])\n",
        "    store = store.reshape(28,28)\n",
        "    data_images.append(store)"
      ],
      "execution_count": 97,
      "outputs": []
    },
    {
      "cell_type": "code",
      "metadata": {
        "id": "w_EMHtkIMMX2"
      },
      "source": [
        "data_images = np.asarray(data_images)\n",
        "test_images = data_images.reshape(28000,28,28,1)\n",
        "test_predictions = model.predict_classes(test_images)\n",
        "export = []\n",
        "for i in range(test_data.shape[0]):\n",
        "    export.append([i+1,test_predictions[i]])\n",
        "df = pd.DataFrame(export, columns=['ImageId', 'Label'])\n",
        "df.to_csv(r'./Submission_'+datetime.datetime.today().strftime('%Y-%m-%d-%H:%M:%S')+'.csv',index=False)"
      ],
      "execution_count": 98,
      "outputs": []
    },
    {
      "cell_type": "code",
      "metadata": {
        "id": "g6nI9y3GRWSH"
      },
      "source": [
        "  import random\n",
        "  def show_random_numbers():\n",
        "    rows, cols = 5, 5 \n",
        "    fig, axs = plt.subplots(rows, cols)\n",
        "    fig.subplots_adjust(top = 0.99, bottom=0.01, hspace=0.5, wspace=0.4)\n",
        "    for i in range(rows):\n",
        "      for j in range(cols):\n",
        "        x = random.randint(0,len(data_images)-1)\n",
        "        axs[i,j].imshow(data_images[x], cmap='gray')\n",
        "        axs[i,j].axis('off')\n",
        "        axs[i,j].set_title(test_predictions[x])"
      ],
      "execution_count": 99,
      "outputs": []
    },
    {
      "cell_type": "code",
      "metadata": {
        "id": "9tX6IoNiedBA",
        "outputId": "b0d51e8e-96a3-4ef4-a24d-030407851033",
        "colab": {
          "base_uri": "https://localhost:8080/",
          "height": 329
        }
      },
      "source": [
        "show_random_numbers()"
      ],
      "execution_count": 100,
      "outputs": [
        {
          "output_type": "display_data",
          "data": {
            "image/png": "[encoded data removed]",
            "text/plain": [
              "<Figure size 432x288 with 25 Axes>"
            ]
          },
          "metadata": {
            "tags": [],
            "needs_background": "light"
          }
        }
      ]
    },
    {
      "cell_type": "code",
      "metadata": {
        "id": "HfnCZ6_ee4WW",
        "outputId": "3129e0aa-b257-475a-a0c0-58c69577d6da",
        "colab": {
          "base_uri": "https://localhost:8080/",
          "height": 329
        }
      },
      "source": [
        "show_random_numbers()"
      ],
      "execution_count": 101,
      "outputs": [
        {
          "output_type": "display_data",
          "data": {
            "image/png": "[encoded data removed]",
            "text/plain": [
              "<Figure size 432x288 with 25 Axes>"
            ]
          },
          "metadata": {
            "tags": [],
            "needs_background": "light"
          }
        }
      ]
    },
    {
      "cell_type": "code",
      "metadata": {
        "id": "hkZrD_7ygaxP",
        "outputId": "0545e921-0cb1-43b9-f374-6b9cd3dafa9d",
        "colab": {
          "base_uri": "https://localhost:8080/",
          "height": 329
        }
      },
      "source": [
        "show_random_numbers()"
      ],
      "execution_count": 102,
      "outputs": [
        {
          "output_type": "display_data",
          "data": {
            "image/png": "[encoded data removed]",
            "text/plain": [
              "<Figure size 432x288 with 25 Axes>"
            ]
          },
          "metadata": {
            "tags": [],
            "needs_background": "light"
          }
        }
      ]
    }
  ]
}