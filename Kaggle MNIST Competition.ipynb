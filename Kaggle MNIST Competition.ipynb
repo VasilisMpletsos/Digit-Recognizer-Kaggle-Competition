{
  "nbformat": 4,
  "nbformat_minor": 0,
  "metadata": {
    "accelerator": "GPU",
    "colab": {
      "name": "KaggleDigitRecogniserCompetition.ipynb",
      "provenance": [],
      "collapsed_sections": [],
      "toc_visible": true
    },
    "kernelspec": {
      "display_name": "Python 3",
      "name": "python3"
    }
  },
  "cells": [
    {
      "cell_type": "code",
      "metadata": {
        "id": "8fKdaBStFeH_"
      },
      "source": [
        "import matplotlib.pyplot as plt\n",
        "import pandas as pd\n",
        "import numpy as np\n",
        "%matplotlib inline"
      ],
      "execution_count": null,
      "outputs": []
    },
    {
      "cell_type": "code",
      "metadata": {
        "id": "O-WhLfN5KvV9",
        "outputId": "dfe43ad1-8607-4831-c945-db86ea798c8f",
        "colab": {
          "base_uri": "https://localhost:8080/",
          "height": 35
        }
      },
      "source": [
        "import tensorflow as tf\n",
        "tf.test.gpu_device_name()"
      ],
      "execution_count": null,
      "outputs": [
        {
          "output_type": "execute_result",
          "data": {
            "application/vnd.google.colaboratory.intrinsic+json": {
              "type": "string"
            },
            "text/plain": [
              "'/device:GPU:0'"
            ]
          },
          "metadata": {
            "tags": []
          },
          "execution_count": 2
        }
      ]
    },
    {
      "cell_type": "code",
      "metadata": {
        "id": "Yol2AyHBIaOo",
        "outputId": "57c37702-5f6a-45f6-84b2-b1bb1c569c91",
        "colab": {
          "base_uri": "https://localhost:8080/",
          "height": 34
        }
      },
      "source": [
        "cd /content/drive/My Drive/Kaggle Digit Recogniser"
      ],
      "execution_count": null,
      "outputs": [
        {
          "output_type": "stream",
          "text": [
            "/content/drive/My Drive/Kaggle Digit Recogniser\n"
          ],
          "name": "stdout"
        }
      ]
    },
    {
      "cell_type": "code",
      "metadata": {
        "id": "EXyUONtoJFbB"
      },
      "source": [
        "data = pd.read_csv('./train.csv')"
      ],
      "execution_count": null,
      "outputs": []
    },
    {
      "cell_type": "code",
      "metadata": {
        "id": "QRfpFJeAJOqh",
        "outputId": "04694ae7-d5af-4537-81d5-ed76990fd7cf",
        "colab": {
          "base_uri": "https://localhost:8080/",
          "height": 102
        }
      },
      "source": [
        "data.info()"
      ],
      "execution_count": null,
      "outputs": [
        {
          "output_type": "stream",
          "text": [
            "<class 'pandas.core.frame.DataFrame'>\n",
            "RangeIndex: 42000 entries, 0 to 41999\n",
            "Columns: 785 entries, label to pixel783\n",
            "dtypes: int64(785)\n",
            "memory usage: 251.5 MB\n"
          ],
          "name": "stdout"
        }
      ]
    },
    {
      "cell_type": "code",
      "metadata": {
        "id": "nt3KWRPiJQzB"
      },
      "source": [
        "y_train = data['label']"
      ],
      "execution_count": null,
      "outputs": []
    },
    {
      "cell_type": "code",
      "metadata": {
        "id": "pCwp1Zt_JTqP",
        "outputId": "bff16e35-173f-4f22-867c-eb1868612b7f",
        "colab": {
          "base_uri": "https://localhost:8080/",
          "height": 119
        }
      },
      "source": [
        "y_train.head()"
      ],
      "execution_count": null,
      "outputs": [
        {
          "output_type": "execute_result",
          "data": {
            "text/plain": [
              "0    1\n",
              "1    0\n",
              "2    1\n",
              "3    4\n",
              "4    0\n",
              "Name: label, dtype: int64"
            ]
          },
          "metadata": {
            "tags": []
          },
          "execution_count": 7
        }
      ]
    },
    {
      "cell_type": "code",
      "metadata": {
        "id": "wi2utzABJVX8",
        "outputId": "c1a0ccd7-2a37-4601-d8fa-a8b91428de2f",
        "colab": {
          "base_uri": "https://localhost:8080/",
          "height": 34
        }
      },
      "source": [
        "y_train.shape"
      ],
      "execution_count": null,
      "outputs": [
        {
          "output_type": "execute_result",
          "data": {
            "text/plain": [
              "(42000,)"
            ]
          },
          "metadata": {
            "tags": []
          },
          "execution_count": 8
        }
      ]
    },
    {
      "cell_type": "code",
      "metadata": {
        "id": "dwis_FFQJWwr"
      },
      "source": [
        "from keras.utils.np_utils import to_categorical\n",
        "y_train = to_categorical(y_train,len(y_train.unique()))"
      ],
      "execution_count": null,
      "outputs": []
    },
    {
      "cell_type": "code",
      "metadata": {
        "id": "FVBwpJAPJbJ4"
      },
      "source": [
        "x_train = data.drop('label',axis=1)"
      ],
      "execution_count": null,
      "outputs": []
    },
    {
      "cell_type": "code",
      "metadata": {
        "id": "qMy82ZpuJc0N"
      },
      "source": [
        "x_train = x_train / 255"
      ],
      "execution_count": null,
      "outputs": []
    },
    {
      "cell_type": "code",
      "metadata": {
        "id": "uwLH3Df4Jexn",
        "outputId": "bbeb6f77-b346-4081-fb24-e1c1af384163",
        "colab": {
          "base_uri": "https://localhost:8080/",
          "height": 253
        }
      },
      "source": [
        "x_train.head()"
      ],
      "execution_count": null,
      "outputs": [
        {
          "output_type": "execute_result",
          "data": {
            "text/html": [
              "<div>\n",
              "<style scoped>\n",
              "    .dataframe tbody tr th:only-of-type {\n",
              "        vertical-align: middle;\n",
              "    }\n",
              "\n",
              "    .dataframe tbody tr th {\n",
              "        vertical-align: top;\n",
              "    }\n",
              "\n",
              "    .dataframe thead th {\n",
              "        text-align: right;\n",
              "    }\n",
              "</style>\n",
              "<table border=\"1\" class=\"dataframe\">\n",
              "  <thead>\n",
              "    <tr style=\"text-align: right;\">\n",
              "      <th></th>\n",
              "      <th>pixel0</th>\n",
              "      <th>pixel1</th>\n",
              "      <th>pixel2</th>\n",
              "      <th>pixel3</th>\n",
              "      <th>pixel4</th>\n",
              "      <th>pixel5</th>\n",
              "      <th>pixel6</th>\n",
              "      <th>pixel7</th>\n",
              "      <th>pixel8</th>\n",
              "      <th>pixel9</th>\n",
              "      <th>pixel10</th>\n",
              "      <th>pixel11</th>\n",
              "      <th>pixel12</th>\n",
              "      <th>pixel13</th>\n",
              "      <th>pixel14</th>\n",
              "      <th>pixel15</th>\n",
              "      <th>pixel16</th>\n",
              "      <th>pixel17</th>\n",
              "      <th>pixel18</th>\n",
              "      <th>pixel19</th>\n",
              "      <th>pixel20</th>\n",
              "      <th>pixel21</th>\n",
              "      <th>pixel22</th>\n",
              "      <th>pixel23</th>\n",
              "      <th>pixel24</th>\n",
              "      <th>pixel25</th>\n",
              "      <th>pixel26</th>\n",
              "      <th>pixel27</th>\n",
              "      <th>pixel28</th>\n",
              "      <th>pixel29</th>\n",
              "      <th>pixel30</th>\n",
              "      <th>pixel31</th>\n",
              "      <th>pixel32</th>\n",
              "      <th>pixel33</th>\n",
              "      <th>pixel34</th>\n",
              "      <th>pixel35</th>\n",
              "      <th>pixel36</th>\n",
              "      <th>pixel37</th>\n",
              "      <th>pixel38</th>\n",
              "      <th>pixel39</th>\n",
              "      <th>...</th>\n",
              "      <th>pixel744</th>\n",
              "      <th>pixel745</th>\n",
              "      <th>pixel746</th>\n",
              "      <th>pixel747</th>\n",
              "      <th>pixel748</th>\n",
              "      <th>pixel749</th>\n",
              "      <th>pixel750</th>\n",
              "      <th>pixel751</th>\n",
              "      <th>pixel752</th>\n",
              "      <th>pixel753</th>\n",
              "      <th>pixel754</th>\n",
              "      <th>pixel755</th>\n",
              "      <th>pixel756</th>\n",
              "      <th>pixel757</th>\n",
              "      <th>pixel758</th>\n",
              "      <th>pixel759</th>\n",
              "      <th>pixel760</th>\n",
              "      <th>pixel761</th>\n",
              "      <th>pixel762</th>\n",
              "      <th>pixel763</th>\n",
              "      <th>pixel764</th>\n",
              "      <th>pixel765</th>\n",
              "      <th>pixel766</th>\n",
              "      <th>pixel767</th>\n",
              "      <th>pixel768</th>\n",
              "      <th>pixel769</th>\n",
              "      <th>pixel770</th>\n",
              "      <th>pixel771</th>\n",
              "      <th>pixel772</th>\n",
              "      <th>pixel773</th>\n",
              "      <th>pixel774</th>\n",
              "      <th>pixel775</th>\n",
              "      <th>pixel776</th>\n",
              "      <th>pixel777</th>\n",
              "      <th>pixel778</th>\n",
              "      <th>pixel779</th>\n",
              "      <th>pixel780</th>\n",
              "      <th>pixel781</th>\n",
              "      <th>pixel782</th>\n",
              "      <th>pixel783</th>\n",
              "    </tr>\n",
              "  </thead>\n",
              "  <tbody>\n",
              "    <tr>\n",
              "      <th>0</th>\n",
              "      <td>0.0</td>\n",
              "      <td>0.0</td>\n",
              "      <td>0.0</td>\n",
              "      <td>0.0</td>\n",
              "      <td>0.0</td>\n",
              "      <td>0.0</td>\n",
              "      <td>0.0</td>\n",
              "      <td>0.0</td>\n",
              "      <td>0.0</td>\n",
              "      <td>0.0</td>\n",
              "      <td>0.0</td>\n",
              "      <td>0.0</td>\n",
              "      <td>0.0</td>\n",
              "      <td>0.0</td>\n",
              "      <td>0.0</td>\n",
              "      <td>0.0</td>\n",
              "      <td>0.0</td>\n",
              "      <td>0.0</td>\n",
              "      <td>0.0</td>\n",
              "      <td>0.0</td>\n",
              "      <td>0.0</td>\n",
              "      <td>0.0</td>\n",
              "      <td>0.0</td>\n",
              "      <td>0.0</td>\n",
              "      <td>0.0</td>\n",
              "      <td>0.0</td>\n",
              "      <td>0.0</td>\n",
              "      <td>0.0</td>\n",
              "      <td>0.0</td>\n",
              "      <td>0.0</td>\n",
              "      <td>0.0</td>\n",
              "      <td>0.0</td>\n",
              "      <td>0.0</td>\n",
              "      <td>0.0</td>\n",
              "      <td>0.0</td>\n",
              "      <td>0.0</td>\n",
              "      <td>0.0</td>\n",
              "      <td>0.0</td>\n",
              "      <td>0.0</td>\n",
              "      <td>0.0</td>\n",
              "      <td>...</td>\n",
              "      <td>0.0</td>\n",
              "      <td>0.0</td>\n",
              "      <td>0.0</td>\n",
              "      <td>0.0</td>\n",
              "      <td>0.0</td>\n",
              "      <td>0.0</td>\n",
              "      <td>0.0</td>\n",
              "      <td>0.0</td>\n",
              "      <td>0.0</td>\n",
              "      <td>0.0</td>\n",
              "      <td>0.0</td>\n",
              "      <td>0.0</td>\n",
              "      <td>0.0</td>\n",
              "      <td>0.0</td>\n",
              "      <td>0.0</td>\n",
              "      <td>0.0</td>\n",
              "      <td>0.0</td>\n",
              "      <td>0.0</td>\n",
              "      <td>0.0</td>\n",
              "      <td>0.0</td>\n",
              "      <td>0.0</td>\n",
              "      <td>0.0</td>\n",
              "      <td>0.0</td>\n",
              "      <td>0.0</td>\n",
              "      <td>0.0</td>\n",
              "      <td>0.0</td>\n",
              "      <td>0.0</td>\n",
              "      <td>0.0</td>\n",
              "      <td>0.0</td>\n",
              "      <td>0.0</td>\n",
              "      <td>0.0</td>\n",
              "      <td>0.0</td>\n",
              "      <td>0.0</td>\n",
              "      <td>0.0</td>\n",
              "      <td>0.0</td>\n",
              "      <td>0.0</td>\n",
              "      <td>0.0</td>\n",
              "      <td>0.0</td>\n",
              "      <td>0.0</td>\n",
              "      <td>0.0</td>\n",
              "    </tr>\n",
              "    <tr>\n",
              "      <th>1</th>\n",
              "      <td>0.0</td>\n",
              "      <td>0.0</td>\n",
              "      <td>0.0</td>\n",
              "      <td>0.0</td>\n",
              "      <td>0.0</td>\n",
              "      <td>0.0</td>\n",
              "      <td>0.0</td>\n",
              "      <td>0.0</td>\n",
              "      <td>0.0</td>\n",
              "      <td>0.0</td>\n",
              "      <td>0.0</td>\n",
              "      <td>0.0</td>\n",
              "      <td>0.0</td>\n",
              "      <td>0.0</td>\n",
              "      <td>0.0</td>\n",
              "      <td>0.0</td>\n",
              "      <td>0.0</td>\n",
              "      <td>0.0</td>\n",
              "      <td>0.0</td>\n",
              "      <td>0.0</td>\n",
              "      <td>0.0</td>\n",
              "      <td>0.0</td>\n",
              "      <td>0.0</td>\n",
              "      <td>0.0</td>\n",
              "      <td>0.0</td>\n",
              "      <td>0.0</td>\n",
              "      <td>0.0</td>\n",
              "      <td>0.0</td>\n",
              "      <td>0.0</td>\n",
              "      <td>0.0</td>\n",
              "      <td>0.0</td>\n",
              "      <td>0.0</td>\n",
              "      <td>0.0</td>\n",
              "      <td>0.0</td>\n",
              "      <td>0.0</td>\n",
              "      <td>0.0</td>\n",
              "      <td>0.0</td>\n",
              "      <td>0.0</td>\n",
              "      <td>0.0</td>\n",
              "      <td>0.0</td>\n",
              "      <td>...</td>\n",
              "      <td>0.0</td>\n",
              "      <td>0.0</td>\n",
              "      <td>0.0</td>\n",
              "      <td>0.0</td>\n",
              "      <td>0.0</td>\n",
              "      <td>0.0</td>\n",
              "      <td>0.0</td>\n",
              "      <td>0.0</td>\n",
              "      <td>0.0</td>\n",
              "      <td>0.0</td>\n",
              "      <td>0.0</td>\n",
              "      <td>0.0</td>\n",
              "      <td>0.0</td>\n",
              "      <td>0.0</td>\n",
              "      <td>0.0</td>\n",
              "      <td>0.0</td>\n",
              "      <td>0.0</td>\n",
              "      <td>0.0</td>\n",
              "      <td>0.0</td>\n",
              "      <td>0.0</td>\n",
              "      <td>0.0</td>\n",
              "      <td>0.0</td>\n",
              "      <td>0.0</td>\n",
              "      <td>0.0</td>\n",
              "      <td>0.0</td>\n",
              "      <td>0.0</td>\n",
              "      <td>0.0</td>\n",
              "      <td>0.0</td>\n",
              "      <td>0.0</td>\n",
              "      <td>0.0</td>\n",
              "      <td>0.0</td>\n",
              "      <td>0.0</td>\n",
              "      <td>0.0</td>\n",
              "      <td>0.0</td>\n",
              "      <td>0.0</td>\n",
              "      <td>0.0</td>\n",
              "      <td>0.0</td>\n",
              "      <td>0.0</td>\n",
              "      <td>0.0</td>\n",
              "      <td>0.0</td>\n",
              "    </tr>\n",
              "    <tr>\n",
              "      <th>2</th>\n",
              "      <td>0.0</td>\n",
              "      <td>0.0</td>\n",
              "      <td>0.0</td>\n",
              "      <td>0.0</td>\n",
              "      <td>0.0</td>\n",
              "      <td>0.0</td>\n",
              "      <td>0.0</td>\n",
              "      <td>0.0</td>\n",
              "      <td>0.0</td>\n",
              "      <td>0.0</td>\n",
              "      <td>0.0</td>\n",
              "      <td>0.0</td>\n",
              "      <td>0.0</td>\n",
              "      <td>0.0</td>\n",
              "      <td>0.0</td>\n",
              "      <td>0.0</td>\n",
              "      <td>0.0</td>\n",
              "      <td>0.0</td>\n",
              "      <td>0.0</td>\n",
              "      <td>0.0</td>\n",
              "      <td>0.0</td>\n",
              "      <td>0.0</td>\n",
              "      <td>0.0</td>\n",
              "      <td>0.0</td>\n",
              "      <td>0.0</td>\n",
              "      <td>0.0</td>\n",
              "      <td>0.0</td>\n",
              "      <td>0.0</td>\n",
              "      <td>0.0</td>\n",
              "      <td>0.0</td>\n",
              "      <td>0.0</td>\n",
              "      <td>0.0</td>\n",
              "      <td>0.0</td>\n",
              "      <td>0.0</td>\n",
              "      <td>0.0</td>\n",
              "      <td>0.0</td>\n",
              "      <td>0.0</td>\n",
              "      <td>0.0</td>\n",
              "      <td>0.0</td>\n",
              "      <td>0.0</td>\n",
              "      <td>...</td>\n",
              "      <td>0.0</td>\n",
              "      <td>0.0</td>\n",
              "      <td>0.0</td>\n",
              "      <td>0.0</td>\n",
              "      <td>0.0</td>\n",
              "      <td>0.0</td>\n",
              "      <td>0.0</td>\n",
              "      <td>0.0</td>\n",
              "      <td>0.0</td>\n",
              "      <td>0.0</td>\n",
              "      <td>0.0</td>\n",
              "      <td>0.0</td>\n",
              "      <td>0.0</td>\n",
              "      <td>0.0</td>\n",
              "      <td>0.0</td>\n",
              "      <td>0.0</td>\n",
              "      <td>0.0</td>\n",
              "      <td>0.0</td>\n",
              "      <td>0.0</td>\n",
              "      <td>0.0</td>\n",
              "      <td>0.0</td>\n",
              "      <td>0.0</td>\n",
              "      <td>0.0</td>\n",
              "      <td>0.0</td>\n",
              "      <td>0.0</td>\n",
              "      <td>0.0</td>\n",
              "      <td>0.0</td>\n",
              "      <td>0.0</td>\n",
              "      <td>0.0</td>\n",
              "      <td>0.0</td>\n",
              "      <td>0.0</td>\n",
              "      <td>0.0</td>\n",
              "      <td>0.0</td>\n",
              "      <td>0.0</td>\n",
              "      <td>0.0</td>\n",
              "      <td>0.0</td>\n",
              "      <td>0.0</td>\n",
              "      <td>0.0</td>\n",
              "      <td>0.0</td>\n",
              "      <td>0.0</td>\n",
              "    </tr>\n",
              "    <tr>\n",
              "      <th>3</th>\n",
              "      <td>0.0</td>\n",
              "      <td>0.0</td>\n",
              "      <td>0.0</td>\n",
              "      <td>0.0</td>\n",
              "      <td>0.0</td>\n",
              "      <td>0.0</td>\n",
              "      <td>0.0</td>\n",
              "      <td>0.0</td>\n",
              "      <td>0.0</td>\n",
              "      <td>0.0</td>\n",
              "      <td>0.0</td>\n",
              "      <td>0.0</td>\n",
              "      <td>0.0</td>\n",
              "      <td>0.0</td>\n",
              "      <td>0.0</td>\n",
              "      <td>0.0</td>\n",
              "      <td>0.0</td>\n",
              "      <td>0.0</td>\n",
              "      <td>0.0</td>\n",
              "      <td>0.0</td>\n",
              "      <td>0.0</td>\n",
              "      <td>0.0</td>\n",
              "      <td>0.0</td>\n",
              "      <td>0.0</td>\n",
              "      <td>0.0</td>\n",
              "      <td>0.0</td>\n",
              "      <td>0.0</td>\n",
              "      <td>0.0</td>\n",
              "      <td>0.0</td>\n",
              "      <td>0.0</td>\n",
              "      <td>0.0</td>\n",
              "      <td>0.0</td>\n",
              "      <td>0.0</td>\n",
              "      <td>0.0</td>\n",
              "      <td>0.0</td>\n",
              "      <td>0.0</td>\n",
              "      <td>0.0</td>\n",
              "      <td>0.0</td>\n",
              "      <td>0.0</td>\n",
              "      <td>0.0</td>\n",
              "      <td>...</td>\n",
              "      <td>0.0</td>\n",
              "      <td>0.0</td>\n",
              "      <td>0.0</td>\n",
              "      <td>0.0</td>\n",
              "      <td>0.0</td>\n",
              "      <td>0.0</td>\n",
              "      <td>0.0</td>\n",
              "      <td>0.0</td>\n",
              "      <td>0.0</td>\n",
              "      <td>0.0</td>\n",
              "      <td>0.0</td>\n",
              "      <td>0.0</td>\n",
              "      <td>0.0</td>\n",
              "      <td>0.0</td>\n",
              "      <td>0.0</td>\n",
              "      <td>0.0</td>\n",
              "      <td>0.0</td>\n",
              "      <td>0.0</td>\n",
              "      <td>0.0</td>\n",
              "      <td>0.0</td>\n",
              "      <td>0.0</td>\n",
              "      <td>0.0</td>\n",
              "      <td>0.0</td>\n",
              "      <td>0.0</td>\n",
              "      <td>0.0</td>\n",
              "      <td>0.0</td>\n",
              "      <td>0.0</td>\n",
              "      <td>0.0</td>\n",
              "      <td>0.0</td>\n",
              "      <td>0.0</td>\n",
              "      <td>0.0</td>\n",
              "      <td>0.0</td>\n",
              "      <td>0.0</td>\n",
              "      <td>0.0</td>\n",
              "      <td>0.0</td>\n",
              "      <td>0.0</td>\n",
              "      <td>0.0</td>\n",
              "      <td>0.0</td>\n",
              "      <td>0.0</td>\n",
              "      <td>0.0</td>\n",
              "    </tr>\n",
              "    <tr>\n",
              "      <th>4</th>\n",
              "      <td>0.0</td>\n",
              "      <td>0.0</td>\n",
              "      <td>0.0</td>\n",
              "      <td>0.0</td>\n",
              "      <td>0.0</td>\n",
              "      <td>0.0</td>\n",
              "      <td>0.0</td>\n",
              "      <td>0.0</td>\n",
              "      <td>0.0</td>\n",
              "      <td>0.0</td>\n",
              "      <td>0.0</td>\n",
              "      <td>0.0</td>\n",
              "      <td>0.0</td>\n",
              "      <td>0.0</td>\n",
              "      <td>0.0</td>\n",
              "      <td>0.0</td>\n",
              "      <td>0.0</td>\n",
              "      <td>0.0</td>\n",
              "      <td>0.0</td>\n",
              "      <td>0.0</td>\n",
              "      <td>0.0</td>\n",
              "      <td>0.0</td>\n",
              "      <td>0.0</td>\n",
              "      <td>0.0</td>\n",
              "      <td>0.0</td>\n",
              "      <td>0.0</td>\n",
              "      <td>0.0</td>\n",
              "      <td>0.0</td>\n",
              "      <td>0.0</td>\n",
              "      <td>0.0</td>\n",
              "      <td>0.0</td>\n",
              "      <td>0.0</td>\n",
              "      <td>0.0</td>\n",
              "      <td>0.0</td>\n",
              "      <td>0.0</td>\n",
              "      <td>0.0</td>\n",
              "      <td>0.0</td>\n",
              "      <td>0.0</td>\n",
              "      <td>0.0</td>\n",
              "      <td>0.0</td>\n",
              "      <td>...</td>\n",
              "      <td>0.0</td>\n",
              "      <td>0.0</td>\n",
              "      <td>0.0</td>\n",
              "      <td>0.0</td>\n",
              "      <td>0.0</td>\n",
              "      <td>0.0</td>\n",
              "      <td>0.0</td>\n",
              "      <td>0.0</td>\n",
              "      <td>0.0</td>\n",
              "      <td>0.0</td>\n",
              "      <td>0.0</td>\n",
              "      <td>0.0</td>\n",
              "      <td>0.0</td>\n",
              "      <td>0.0</td>\n",
              "      <td>0.0</td>\n",
              "      <td>0.0</td>\n",
              "      <td>0.0</td>\n",
              "      <td>0.0</td>\n",
              "      <td>0.0</td>\n",
              "      <td>0.0</td>\n",
              "      <td>0.0</td>\n",
              "      <td>0.0</td>\n",
              "      <td>0.0</td>\n",
              "      <td>0.0</td>\n",
              "      <td>0.0</td>\n",
              "      <td>0.0</td>\n",
              "      <td>0.0</td>\n",
              "      <td>0.0</td>\n",
              "      <td>0.0</td>\n",
              "      <td>0.0</td>\n",
              "      <td>0.0</td>\n",
              "      <td>0.0</td>\n",
              "      <td>0.0</td>\n",
              "      <td>0.0</td>\n",
              "      <td>0.0</td>\n",
              "      <td>0.0</td>\n",
              "      <td>0.0</td>\n",
              "      <td>0.0</td>\n",
              "      <td>0.0</td>\n",
              "      <td>0.0</td>\n",
              "    </tr>\n",
              "  </tbody>\n",
              "</table>\n",
              "<p>5 rows × 784 columns</p>\n",
              "</div>"
            ],
            "text/plain": [
              "   pixel0  pixel1  pixel2  pixel3  ...  pixel780  pixel781  pixel782  pixel783\n",
              "0     0.0     0.0     0.0     0.0  ...       0.0       0.0       0.0       0.0\n",
              "1     0.0     0.0     0.0     0.0  ...       0.0       0.0       0.0       0.0\n",
              "2     0.0     0.0     0.0     0.0  ...       0.0       0.0       0.0       0.0\n",
              "3     0.0     0.0     0.0     0.0  ...       0.0       0.0       0.0       0.0\n",
              "4     0.0     0.0     0.0     0.0  ...       0.0       0.0       0.0       0.0\n",
              "\n",
              "[5 rows x 784 columns]"
            ]
          },
          "metadata": {
            "tags": []
          },
          "execution_count": 12
        }
      ]
    },
    {
      "cell_type": "code",
      "metadata": {
        "id": "hMAOCJ_wJgIl"
      },
      "source": [
        "from tensorflow.keras import Sequential, Input\n",
        "from tensorflow.keras.layers import Dense, Conv2D, MaxPool2D, Flatten, Dropout\n",
        "from tensorflow.keras.callbacks import ReduceLROnPlateau, EarlyStopping"
      ],
      "execution_count": null,
      "outputs": []
    },
    {
      "cell_type": "code",
      "metadata": {
        "id": "0ZGNsKD1Jta-"
      },
      "source": [
        "data_images = []\n",
        "for i in range(x_train.shape[0]):\n",
        "    store = np.asarray(x_train.loc[[i][0]])\n",
        "    store = store.reshape(28,28)\n",
        "    data_images.append(store)"
      ],
      "execution_count": null,
      "outputs": []
    },
    {
      "cell_type": "code",
      "metadata": {
        "id": "sBnAB3KgJvHI"
      },
      "source": [
        "data_images = np.asarray(data_images)"
      ],
      "execution_count": null,
      "outputs": []
    },
    {
      "cell_type": "code",
      "metadata": {
        "id": "3yxiIVIPJxdw",
        "outputId": "717e5191-5f89-495b-82f2-19e83f041dbb",
        "colab": {
          "base_uri": "https://localhost:8080/",
          "height": 282
        }
      },
      "source": [
        "plt.imshow(data_images[20])"
      ],
      "execution_count": null,
      "outputs": [
        {
          "output_type": "execute_result",
          "data": {
            "text/plain": [
              "<matplotlib.image.AxesImage at 0x7f7a60d34320>"
            ]
          },
          "metadata": {
            "tags": []
          },
          "execution_count": 16
        },
        {
          "output_type": "display_data",
          "data": {
            "image/png": "[encoded data removed]",
            "text/plain": [
              "<Figure size 432x288 with 1 Axes>"
            ]
          },
          "metadata": {
            "tags": [],
            "needs_background": "light"
          }
        }
      ]
    },
    {
      "cell_type": "code",
      "metadata": {
        "id": "hl744m90Jylq",
        "outputId": "720734d9-5264-4179-9e79-448dbf425f23",
        "colab": {
          "base_uri": "https://localhost:8080/",
          "height": 34
        }
      },
      "source": [
        "data_images.shape"
      ],
      "execution_count": null,
      "outputs": [
        {
          "output_type": "execute_result",
          "data": {
            "text/plain": [
              "(42000, 28, 28)"
            ]
          },
          "metadata": {
            "tags": []
          },
          "execution_count": 17
        }
      ]
    },
    {
      "cell_type": "code",
      "metadata": {
        "id": "bkQlUwTDLk9Q",
        "outputId": "8367c08a-a08b-4577-eea1-cb1ec74bffd3",
        "colab": {
          "base_uri": "https://localhost:8080/",
          "height": 34
        }
      },
      "source": [
        "data_images[1].max()"
      ],
      "execution_count": null,
      "outputs": [
        {
          "output_type": "execute_result",
          "data": {
            "text/plain": [
              "1.0"
            ]
          },
          "metadata": {
            "tags": []
          },
          "execution_count": 18
        }
      ]
    },
    {
      "cell_type": "code",
      "metadata": {
        "id": "MZNHKIr0Lple",
        "outputId": "bc4ec201-08b8-4673-fbd0-2ed3e880e30d",
        "colab": {
          "base_uri": "https://localhost:8080/",
          "height": 34
        }
      },
      "source": [
        "data_images[1].min()"
      ],
      "execution_count": null,
      "outputs": [
        {
          "output_type": "execute_result",
          "data": {
            "text/plain": [
              "0.0"
            ]
          },
          "metadata": {
            "tags": []
          },
          "execution_count": 19
        }
      ]
    },
    {
      "cell_type": "code",
      "metadata": {
        "id": "c3Lz0spdJ0Vd"
      },
      "source": [
        "x_train = data_images.reshape(42000,28,28,1)"
      ],
      "execution_count": null,
      "outputs": []
    },
    {
      "cell_type": "code",
      "metadata": {
        "id": "uj1PiSxnD7dG",
        "outputId": "e50ccec0-5e69-408d-ce8b-21dc01e4475d",
        "colab": {
          "base_uri": "https://localhost:8080/",
          "height": 34
        }
      },
      "source": [
        "import math\n",
        "print (math.pi)"
      ],
      "execution_count": null,
      "outputs": [
        {
          "output_type": "stream",
          "text": [
            "3.141592653589793\n"
          ],
          "name": "stdout"
        }
      ]
    },
    {
      "cell_type": "code",
      "metadata": {
        "id": "9KwxNAPvtLW0"
      },
      "source": [
        "from keras.preprocessing.image import ImageDataGenerator\n",
        "dataGen = ImageDataGenerator(width_shift_range = 0.1,\n",
        "  height_shift_range = 0.1,\n",
        "  zoom_range = 0.1,\n",
        "  rotation_range = 10,\n",
        "  shear_range = 10/180 * math.pi)\n",
        "dataGen.fit(x_train)"
      ],
      "execution_count": null,
      "outputs": []
    },
    {
      "cell_type": "code",
      "metadata": {
        "id": "xY1Q9IhMLS6r",
        "outputId": "49ecf34f-c91f-424c-b7eb-3bb9b7993df0",
        "colab": {
          "base_uri": "https://localhost:8080/",
          "height": 51
        }
      },
      "source": [
        "# Load the TensorBoard notebook extension\n",
        "%load_ext tensorboard\n",
        "import datetime, os"
      ],
      "execution_count": null,
      "outputs": [
        {
          "output_type": "stream",
          "text": [
            "The tensorboard extension is already loaded. To reload it, use:\n",
            "  %reload_ext tensorboard\n"
          ],
          "name": "stdout"
        }
      ]
    },
    {
      "cell_type": "code",
      "metadata": {
        "id": "xwoOhSFcJ3Gl"
      },
      "source": [
        "model = Sequential()\n",
        "\n",
        "# CONVOLUTIONAL LAYER\n",
        "model.add(Conv2D(filters=32, kernel_size=(3,3),input_shape=(28, 28, 1), activation='relu'))\n",
        "\n",
        "# CONVOLUTIONAL LAYER\n",
        "model.add(Conv2D(filters=64, kernel_size=(3,3), activation='relu'))\n",
        "\n",
        "# POOLING LAYER\n",
        "model.add(MaxPool2D(pool_size=(2, 2)))\n",
        "\n",
        "# CONVOLUTIONAL LAYER\n",
        "model.add(Conv2D(filters=126, kernel_size=(3,3), activation='relu'))\n",
        "\n",
        "# CONVOLUTIONAL LAYER\n",
        "model.add(Conv2D(filters=256, kernel_size=(3,3), activation='relu'))\n",
        "\n",
        "# CONVOLUTIONAL LAYER\n",
        "model.add(Conv2D(filters=512, kernel_size=(3,3), activation='relu'))\n",
        "\n",
        "# CONVOLUTIONAL LAYER\n",
        "model.add(Conv2D(filters=1024, kernel_size=(3,3), activation='relu'))\n",
        "\n",
        "# CONVOLUTIONAL LAYER\n",
        "model.add(Conv2D(filters=512, kernel_size=(3,3), activation='relu'))\n",
        "\n",
        "# POOLING LAYER\n",
        "model.add(MaxPool2D(pool_size=(2, 2)))\n",
        "\n",
        "# Drop Layer\n",
        "model.add(Dropout(0.2))\n",
        "\n",
        "# FLATTEN IMAGES BEFORE FINAL LAYER\n",
        "model.add(Flatten())\n",
        "\n",
        "# 128 NEURONS IN DENSE HIDDEN LAYER (YOU CAN CHANGE THIS NUMBER OF NEURONS)\n",
        "model.add(Dense(256, activation='relu'))\n",
        "\n",
        "# LAST LAYER IS THE CLASSIFIER, THUS 10 POSSIBLE CLASSES\n",
        "model.add(Dense(10, activation='softmax'))\n",
        "\n",
        "\n",
        "model.compile(loss='categorical_crossentropy',\n",
        "              optimizer='rmsprop',\n",
        "              metrics=['accuracy'])\n",
        "\n",
        "reduce_lr = ReduceLROnPlateau(monitor='accuracy', \n",
        "                                            patience=6, \n",
        "                                            verbose=1, \n",
        "                                            factor=0.75, \n",
        "                                            min_lr=0.00005)\n",
        "logdir = os.path.join(\"logs\", datetime.datetime.today().strftime('%Y-%m-%d-%H:%M:%S'))\n",
        "tensorboard_callback = tf.keras.callbacks.TensorBoard(logdir, histogram_freq=1)\n",
        "\n",
        "\n",
        "early_stop = EarlyStopping(\n",
        "    monitor=\"accuracy\",\n",
        "    min_delta=0.00005,\n",
        "    patience=10,\n",
        "    verbose=1,\n",
        "    mode=\"auto\",\n",
        "    baseline=None,\n",
        "    restore_best_weights=False,\n",
        ")"
      ],
      "execution_count": null,
      "outputs": []
    },
    {
      "cell_type": "code",
      "metadata": {
        "id": "1B1WEeOpJ4tc",
        "outputId": "b6a79b87-da07-44b0-b43d-6afaabf85a5f",
        "colab": {
          "base_uri": "https://localhost:8080/",
          "height": 595
        }
      },
      "source": [
        "model.summary()"
      ],
      "execution_count": null,
      "outputs": [
        {
          "output_type": "stream",
          "text": [
            "Model: \"sequential_14\"\n",
            "_________________________________________________________________\n",
            "Layer (type)                 Output Shape              Param #   \n",
            "=================================================================\n",
            "conv2d_89 (Conv2D)           (None, 26, 26, 32)        320       \n",
            "_________________________________________________________________\n",
            "conv2d_90 (Conv2D)           (None, 24, 24, 64)        18496     \n",
            "_________________________________________________________________\n",
            "max_pooling2d_28 (MaxPooling (None, 12, 12, 64)        0         \n",
            "_________________________________________________________________\n",
            "conv2d_91 (Conv2D)           (None, 10, 10, 126)       72702     \n",
            "_________________________________________________________________\n",
            "conv2d_92 (Conv2D)           (None, 8, 8, 256)         290560    \n",
            "_________________________________________________________________\n",
            "conv2d_93 (Conv2D)           (None, 6, 6, 512)         1180160   \n",
            "_________________________________________________________________\n",
            "conv2d_94 (Conv2D)           (None, 4, 4, 1024)        4719616   \n",
            "_________________________________________________________________\n",
            "conv2d_95 (Conv2D)           (None, 2, 2, 512)         4719104   \n",
            "_________________________________________________________________\n",
            "max_pooling2d_29 (MaxPooling (None, 1, 1, 512)         0         \n",
            "_________________________________________________________________\n",
            "dropout_28 (Dropout)         (None, 1, 1, 512)         0         \n",
            "_________________________________________________________________\n",
            "flatten_13 (Flatten)         (None, 512)               0         \n",
            "_________________________________________________________________\n",
            "dense_39 (Dense)             (None, 256)               131328    \n",
            "_________________________________________________________________\n",
            "dense_40 (Dense)             (None, 10)                2570      \n",
            "=================================================================\n",
            "Total params: 11,134,856\n",
            "Trainable params: 11,134,856\n",
            "Non-trainable params: 0\n",
            "_________________________________________________________________\n"
          ],
          "name": "stdout"
        }
      ]
    },
    {
      "cell_type": "code",
      "metadata": {
        "id": "PgjdifQ4ZhR1",
        "outputId": "78be8b35-3a0e-4ec7-f5ff-95ab42e86276",
        "colab": {
          "base_uri": "https://localhost:8080/",
          "height": 34
        }
      },
      "source": [
        "int(x_train.shape[0]/8)"
      ],
      "execution_count": null,
      "outputs": [
        {
          "output_type": "execute_result",
          "data": {
            "text/plain": [
              "5250"
            ]
          },
          "metadata": {
            "tags": []
          },
          "execution_count": 133
        }
      ]
    },
    {
      "cell_type": "code",
      "metadata": {
        "id": "Ne5gS2ZJtvbN"
      },
      "source": [
        "train_gen = dataGen.flow(x_train, y_train, batch_size=int(x_train.shape[0]/8))"
      ],
      "execution_count": null,
      "outputs": []
    },
    {
      "cell_type": "code",
      "metadata": {
        "id": "hQoai9d_KSUp",
        "outputId": "0d1c0c1b-4682-49e9-d655-f83d86487684",
        "colab": {
          "base_uri": "https://localhost:8080/",
          "height": 1000
        }
      },
      "source": [
        "model.fit(train_gen, epochs=500, callbacks=[tensorboard_callback, reduce_lr, early_stop])"
      ],
      "execution_count": null,
      "outputs": [
        {
          "output_type": "stream",
          "text": [
            "Epoch 1/500\n",
            "2/8 [======>.......................] - ETA: 11s - loss: 2.9735 - accuracy: 0.0977WARNING:tensorflow:Callbacks method `on_train_batch_end` is slow compared to the batch time (batch time: 0.7692s vs `on_train_batch_end` time: 3.0299s). Check your callbacks.\n"
          ],
          "name": "stdout"
        },
        {
          "output_type": "stream",
          "text": [
            "WARNING:tensorflow:Callbacks method `on_train_batch_end` is slow compared to the batch time (batch time: 0.7692s vs `on_train_batch_end` time: 3.0299s). Check your callbacks.\n"
          ],
          "name": "stderr"
        },
        {
          "output_type": "stream",
          "text": [
            "8/8 [==============================] - 25s 3s/step - loss: 2.4902 - accuracy: 0.1140\n",
            "Epoch 2/500\n",
            "8/8 [==============================] - 25s 3s/step - loss: 2.6140 - accuracy: 0.1577\n",
            "Epoch 3/500\n",
            "8/8 [==============================] - 25s 3s/step - loss: 2.2382 - accuracy: 0.1588\n",
            "Epoch 4/500\n",
            "8/8 [==============================] - 25s 3s/step - loss: 2.2582 - accuracy: 0.2150\n",
            "Epoch 5/500\n",
            "8/8 [==============================] - 25s 3s/step - loss: 1.9957 - accuracy: 0.3353\n",
            "Epoch 6/500\n",
            "8/8 [==============================] - 25s 3s/step - loss: 1.9764 - accuracy: 0.3341\n",
            "Epoch 7/500\n",
            "8/8 [==============================] - 25s 3s/step - loss: 1.7894 - accuracy: 0.4041\n",
            "Epoch 8/500\n",
            "8/8 [==============================] - 25s 3s/step - loss: 1.4137 - accuracy: 0.5336\n",
            "Epoch 9/500\n",
            "8/8 [==============================] - 25s 3s/step - loss: 1.1816 - accuracy: 0.5968\n",
            "Epoch 10/500\n",
            "8/8 [==============================] - 25s 3s/step - loss: 1.0326 - accuracy: 0.6643\n",
            "Epoch 11/500\n",
            "8/8 [==============================] - 25s 3s/step - loss: 0.9149 - accuracy: 0.7078\n",
            "Epoch 12/500\n",
            "8/8 [==============================] - 25s 3s/step - loss: 0.7522 - accuracy: 0.7627\n",
            "Epoch 13/500\n",
            "8/8 [==============================] - 25s 3s/step - loss: 0.9766 - accuracy: 0.7320\n",
            "Epoch 14/500\n",
            "8/8 [==============================] - 25s 3s/step - loss: 0.6295 - accuracy: 0.8197\n",
            "Epoch 15/500\n",
            "8/8 [==============================] - 25s 3s/step - loss: 0.3509 - accuracy: 0.8921\n",
            "Epoch 16/500\n",
            "8/8 [==============================] - 25s 3s/step - loss: 0.3525 - accuracy: 0.8980\n",
            "Epoch 17/500\n",
            "8/8 [==============================] - 25s 3s/step - loss: 0.2999 - accuracy: 0.9104\n",
            "Epoch 18/500\n",
            "8/8 [==============================] - 25s 3s/step - loss: 0.2487 - accuracy: 0.9251\n",
            "Epoch 19/500\n",
            "8/8 [==============================] - 25s 3s/step - loss: 0.5833 - accuracy: 0.8440\n",
            "Epoch 20/500\n",
            "8/8 [==============================] - 25s 3s/step - loss: 0.3659 - accuracy: 0.8946\n",
            "Epoch 21/500\n",
            "8/8 [==============================] - 25s 3s/step - loss: 0.1321 - accuracy: 0.9621\n",
            "Epoch 22/500\n",
            "8/8 [==============================] - 25s 3s/step - loss: 0.1833 - accuracy: 0.9460\n",
            "Epoch 23/500\n",
            "8/8 [==============================] - 25s 3s/step - loss: 0.4957 - accuracy: 0.8637\n",
            "Epoch 24/500\n",
            "8/8 [==============================] - 25s 3s/step - loss: 0.1061 - accuracy: 0.9702\n",
            "Epoch 25/500\n",
            "8/8 [==============================] - 25s 3s/step - loss: 0.0955 - accuracy: 0.9718\n",
            "Epoch 26/500\n",
            "8/8 [==============================] - 25s 3s/step - loss: 0.1562 - accuracy: 0.9532\n",
            "Epoch 27/500\n",
            "8/8 [==============================] - 25s 3s/step - loss: 0.3987 - accuracy: 0.8840\n",
            "Epoch 28/500\n",
            "8/8 [==============================] - 25s 3s/step - loss: 0.0870 - accuracy: 0.9741\n",
            "Epoch 29/500\n",
            "8/8 [==============================] - 25s 3s/step - loss: 0.0880 - accuracy: 0.9746\n",
            "Epoch 30/500\n",
            "8/8 [==============================] - 25s 3s/step - loss: 0.4839 - accuracy: 0.8932\n",
            "Epoch 31/500\n",
            "8/8 [==============================] - 25s 3s/step - loss: 0.2239 - accuracy: 0.9359\n",
            "Epoch 32/500\n",
            "8/8 [==============================] - 25s 3s/step - loss: 0.0638 - accuracy: 0.9809\n",
            "Epoch 33/500\n",
            "8/8 [==============================] - 25s 3s/step - loss: 0.0595 - accuracy: 0.9820\n",
            "Epoch 34/500\n",
            "8/8 [==============================] - 25s 3s/step - loss: 0.1345 - accuracy: 0.9604\n",
            "Epoch 35/500\n",
            "8/8 [==============================] - 25s 3s/step - loss: 0.3300 - accuracy: 0.9143\n",
            "Epoch 36/500\n",
            "8/8 [==============================] - 25s 3s/step - loss: 0.0496 - accuracy: 0.9850\n",
            "Epoch 37/500\n",
            "8/8 [==============================] - 25s 3s/step - loss: 0.0474 - accuracy: 0.9852\n",
            "Epoch 38/500\n",
            "8/8 [==============================] - 25s 3s/step - loss: 0.3847 - accuracy: 0.8888\n",
            "Epoch 39/500\n",
            "8/8 [==============================] - 25s 3s/step - loss: 0.0526 - accuracy: 0.9850\n",
            "Epoch 40/500\n",
            "8/8 [==============================] - 25s 3s/step - loss: 0.0407 - accuracy: 0.9875\n",
            "Epoch 41/500\n",
            "8/8 [==============================] - 25s 3s/step - loss: 0.0613 - accuracy: 0.9822\n",
            "Epoch 42/500\n",
            "8/8 [==============================] - 25s 3s/step - loss: 0.0579 - accuracy: 0.9833\n",
            "Epoch 43/500\n",
            "8/8 [==============================] - 25s 3s/step - loss: 0.3129 - accuracy: 0.9217\n",
            "Epoch 44/500\n",
            "8/8 [==============================] - 25s 3s/step - loss: 0.0434 - accuracy: 0.9875\n",
            "Epoch 45/500\n",
            "8/8 [==============================] - 25s 3s/step - loss: 0.0356 - accuracy: 0.9890\n",
            "Epoch 46/500\n",
            "8/8 [==============================] - 25s 3s/step - loss: 0.0377 - accuracy: 0.9886\n",
            "Epoch 47/500\n",
            "8/8 [==============================] - 25s 3s/step - loss: 0.1980 - accuracy: 0.9468\n",
            "Epoch 48/500\n",
            "8/8 [==============================] - 25s 3s/step - loss: 0.2767 - accuracy: 0.9318\n",
            "Epoch 49/500\n",
            "8/8 [==============================] - 25s 3s/step - loss: 0.0358 - accuracy: 0.9895\n",
            "Epoch 50/500\n",
            "8/8 [==============================] - 25s 3s/step - loss: 0.0297 - accuracy: 0.9910\n",
            "Epoch 51/500\n",
            "8/8 [==============================] - 25s 3s/step - loss: 0.0298 - accuracy: 0.9907\n",
            "Epoch 52/500\n",
            "8/8 [==============================] - 25s 3s/step - loss: 0.0312 - accuracy: 0.9909\n",
            "Epoch 53/500\n",
            "8/8 [==============================] - 25s 3s/step - loss: 0.3658 - accuracy: 0.9082\n",
            "Epoch 54/500\n",
            "8/8 [==============================] - 25s 3s/step - loss: 0.0370 - accuracy: 0.9891\n",
            "Epoch 55/500\n",
            "8/8 [==============================] - 25s 3s/step - loss: 0.0261 - accuracy: 0.9917\n",
            "Epoch 56/500\n",
            "8/8 [==============================] - 25s 3s/step - loss: 0.0240 - accuracy: 0.9927\n",
            "Epoch 57/500\n",
            "8/8 [==============================] - 25s 3s/step - loss: 0.0430 - accuracy: 0.9868\n",
            "Epoch 58/500\n",
            "8/8 [==============================] - 25s 3s/step - loss: 0.2103 - accuracy: 0.9477\n",
            "Epoch 59/500\n",
            "8/8 [==============================] - 25s 3s/step - loss: 0.0295 - accuracy: 0.9916\n",
            "Epoch 60/500\n",
            "8/8 [==============================] - 25s 3s/step - loss: 0.0227 - accuracy: 0.9933\n",
            "Epoch 61/500\n",
            "8/8 [==============================] - 25s 3s/step - loss: 0.0295 - accuracy: 0.9911\n",
            "Epoch 62/500\n",
            "8/8 [==============================] - 25s 3s/step - loss: 0.1234 - accuracy: 0.9682\n",
            "Epoch 63/500\n",
            "8/8 [==============================] - 25s 3s/step - loss: 0.0232 - accuracy: 0.9931\n",
            "Epoch 64/500\n",
            "8/8 [==============================] - 25s 3s/step - loss: 0.0338 - accuracy: 0.9901\n",
            "Epoch 65/500\n",
            "8/8 [==============================] - 25s 3s/step - loss: 0.0821 - accuracy: 0.9788\n",
            "Epoch 66/500\n",
            "8/8 [==============================] - 25s 3s/step - loss: 0.0178 - accuracy: 0.9946\n",
            "Epoch 67/500\n",
            "8/8 [==============================] - 25s 3s/step - loss: 0.0201 - accuracy: 0.9937\n",
            "Epoch 68/500\n",
            "8/8 [==============================] - 25s 3s/step - loss: 0.2244 - accuracy: 0.9469\n",
            "Epoch 69/500\n",
            "8/8 [==============================] - 25s 3s/step - loss: 0.0231 - accuracy: 0.9931\n",
            "Epoch 70/500\n",
            "8/8 [==============================] - 25s 3s/step - loss: 0.0168 - accuracy: 0.9951\n",
            "Epoch 71/500\n",
            "8/8 [==============================] - 25s 3s/step - loss: 0.0284 - accuracy: 0.9922\n",
            "Epoch 72/500\n",
            "8/8 [==============================] - 25s 3s/step - loss: 0.0164 - accuracy: 0.9953\n",
            "Epoch 73/500\n",
            "8/8 [==============================] - 25s 3s/step - loss: 0.0311 - accuracy: 0.9913\n",
            "Epoch 74/500\n",
            "8/8 [==============================] - 25s 3s/step - loss: 0.0727 - accuracy: 0.9811\n",
            "Epoch 75/500\n",
            "8/8 [==============================] - 25s 3s/step - loss: 0.0134 - accuracy: 0.9962\n",
            "Epoch 76/500\n",
            "8/8 [==============================] - 25s 3s/step - loss: 0.0163 - accuracy: 0.9952\n",
            "Epoch 77/500\n",
            "8/8 [==============================] - 25s 3s/step - loss: 0.0230 - accuracy: 0.9932\n",
            "Epoch 78/500\n",
            "8/8 [==============================] - 25s 3s/step - loss: 0.0315 - accuracy: 0.9916\n",
            "Epoch 79/500\n",
            "8/8 [==============================] - 25s 3s/step - loss: 0.0729 - accuracy: 0.9809\n",
            "Epoch 80/500\n",
            "8/8 [==============================] - 25s 3s/step - loss: 0.0131 - accuracy: 0.9960\n",
            "Epoch 81/500\n",
            "8/8 [==============================] - ETA: 0s - loss: 0.0133 - accuracy: 0.9960\n",
            "Epoch 00081: ReduceLROnPlateau reducing learning rate to 0.0007500000356230885.\n",
            "8/8 [==============================] - 25s 3s/step - loss: 0.0133 - accuracy: 0.9960\n",
            "Epoch 82/500\n",
            "8/8 [==============================] - 25s 3s/step - loss: 0.0112 - accuracy: 0.9966\n",
            "Epoch 83/500\n",
            "8/8 [==============================] - 25s 3s/step - loss: 0.0109 - accuracy: 0.9970\n",
            "Epoch 84/500\n",
            "8/8 [==============================] - 25s 3s/step - loss: 0.0199 - accuracy: 0.9943\n",
            "Epoch 85/500\n",
            "8/8 [==============================] - 25s 3s/step - loss: 0.0106 - accuracy: 0.9967\n",
            "Epoch 86/500\n",
            "8/8 [==============================] - 25s 3s/step - loss: 0.0169 - accuracy: 0.9954\n",
            "Epoch 87/500\n",
            "8/8 [==============================] - 25s 3s/step - loss: 0.0173 - accuracy: 0.9949\n",
            "Epoch 88/500\n",
            "8/8 [==============================] - 25s 3s/step - loss: 0.0084 - accuracy: 0.9973\n",
            "Epoch 89/500\n",
            "8/8 [==============================] - 25s 3s/step - loss: 0.0101 - accuracy: 0.9971\n",
            "Epoch 90/500\n",
            "8/8 [==============================] - 25s 3s/step - loss: 0.0426 - accuracy: 0.9893\n",
            "Epoch 91/500\n",
            "8/8 [==============================] - 25s 3s/step - loss: 0.0087 - accuracy: 0.9975\n",
            "Epoch 92/500\n",
            "8/8 [==============================] - 25s 3s/step - loss: 0.0074 - accuracy: 0.9977\n",
            "Epoch 93/500\n",
            "8/8 [==============================] - 25s 3s/step - loss: 0.0163 - accuracy: 0.9949\n",
            "Epoch 94/500\n",
            "8/8 [==============================] - 25s 3s/step - loss: 0.0072 - accuracy: 0.9979\n",
            "Epoch 95/500\n",
            "8/8 [==============================] - 25s 3s/step - loss: 0.0155 - accuracy: 0.9956\n",
            "Epoch 96/500\n",
            "8/8 [==============================] - 25s 3s/step - loss: 0.0129 - accuracy: 0.9962\n",
            "Epoch 97/500\n",
            "8/8 [==============================] - 25s 3s/step - loss: 0.0068 - accuracy: 0.9981\n",
            "Epoch 98/500\n",
            "8/8 [==============================] - 25s 3s/step - loss: 0.0080 - accuracy: 0.9978\n",
            "Epoch 99/500\n",
            "8/8 [==============================] - 25s 3s/step - loss: 0.0367 - accuracy: 0.9908\n",
            "Epoch 100/500\n",
            "8/8 [==============================] - 25s 3s/step - loss: 0.0055 - accuracy: 0.9984\n",
            "Epoch 101/500\n",
            "8/8 [==============================] - 25s 3s/step - loss: 0.0052 - accuracy: 0.9985\n",
            "Epoch 102/500\n",
            "8/8 [==============================] - 25s 3s/step - loss: 0.0078 - accuracy: 0.9979\n",
            "Epoch 103/500\n",
            "8/8 [==============================] - 25s 3s/step - loss: 0.0102 - accuracy: 0.9967\n",
            "Epoch 104/500\n",
            "8/8 [==============================] - 25s 3s/step - loss: 0.0065 - accuracy: 0.9980\n",
            "Epoch 105/500\n",
            "8/8 [==============================] - 25s 3s/step - loss: 0.0316 - accuracy: 0.9911\n",
            "Epoch 106/500\n",
            "8/8 [==============================] - 25s 3s/step - loss: 0.0040 - accuracy: 0.9989\n",
            "Epoch 107/500\n",
            "8/8 [==============================] - 25s 3s/step - loss: 0.0039 - accuracy: 0.9988\n",
            "Epoch 108/500\n",
            "8/8 [==============================] - 25s 3s/step - loss: 0.0141 - accuracy: 0.9962\n",
            "Epoch 109/500\n",
            "8/8 [==============================] - 25s 3s/step - loss: 0.0051 - accuracy: 0.9984\n",
            "Epoch 110/500\n",
            "8/8 [==============================] - 25s 3s/step - loss: 0.0068 - accuracy: 0.9981\n",
            "Epoch 111/500\n",
            "8/8 [==============================] - 25s 3s/step - loss: 0.0212 - accuracy: 0.9944\n",
            "Epoch 112/500\n",
            "8/8 [==============================] - ETA: 0s - loss: 0.0048 - accuracy: 0.9986\n",
            "Epoch 00112: ReduceLROnPlateau reducing learning rate to 0.0005625000048894435.\n",
            "8/8 [==============================] - 25s 3s/step - loss: 0.0048 - accuracy: 0.9986\n",
            "Epoch 113/500\n",
            "8/8 [==============================] - 25s 3s/step - loss: 0.0037 - accuracy: 0.9990\n",
            "Epoch 114/500\n",
            "8/8 [==============================] - 25s 3s/step - loss: 0.0046 - accuracy: 0.9986\n",
            "Epoch 115/500\n",
            "8/8 [==============================] - 25s 3s/step - loss: 0.0054 - accuracy: 0.9984\n",
            "Epoch 116/500\n",
            "8/8 [==============================] - 25s 3s/step - loss: 0.0038 - accuracy: 0.9987\n",
            "Epoch 117/500\n",
            "8/8 [==============================] - 25s 3s/step - loss: 0.0074 - accuracy: 0.9981\n",
            "Epoch 118/500\n",
            "8/8 [==============================] - 25s 3s/step - loss: 0.0041 - accuracy: 0.9986\n",
            "Epoch 119/500\n",
            "8/8 [==============================] - ETA: 0s - loss: 0.0050 - accuracy: 0.9985\n",
            "Epoch 00119: ReduceLROnPlateau reducing learning rate to 0.0004218749818392098.\n",
            "8/8 [==============================] - 25s 3s/step - loss: 0.0050 - accuracy: 0.9985\n",
            "Epoch 120/500\n",
            "8/8 [==============================] - 25s 3s/step - loss: 0.0034 - accuracy: 0.9990\n",
            "Epoch 121/500\n",
            "8/8 [==============================] - 25s 3s/step - loss: 0.0034 - accuracy: 0.9989\n",
            "Epoch 122/500\n",
            "8/8 [==============================] - 25s 3s/step - loss: 0.0039 - accuracy: 0.9987\n",
            "Epoch 123/500\n",
            "8/8 [==============================] - 25s 3s/step - loss: 0.0030 - accuracy: 0.9991\n",
            "Epoch 124/500\n",
            "8/8 [==============================] - 25s 3s/step - loss: 0.0029 - accuracy: 0.9993\n",
            "Epoch 125/500\n",
            "8/8 [==============================] - 25s 3s/step - loss: 0.0035 - accuracy: 0.9986\n",
            "Epoch 126/500\n",
            "8/8 [==============================] - 25s 3s/step - loss: 0.0030 - accuracy: 0.9991\n",
            "Epoch 127/500\n",
            "8/8 [==============================] - 25s 3s/step - loss: 0.0024 - accuracy: 0.9993\n",
            "Epoch 128/500\n",
            "8/8 [==============================] - 25s 3s/step - loss: 0.0028 - accuracy: 0.9993\n",
            "Epoch 129/500\n",
            "8/8 [==============================] - 25s 3s/step - loss: 0.0045 - accuracy: 0.9986\n",
            "Epoch 130/500\n",
            "8/8 [==============================] - ETA: 0s - loss: 0.0033 - accuracy: 0.9990\n",
            "Epoch 00130: ReduceLROnPlateau reducing learning rate to 0.00031640623637940735.\n",
            "8/8 [==============================] - 25s 3s/step - loss: 0.0033 - accuracy: 0.9990\n",
            "Epoch 131/500\n",
            "8/8 [==============================] - 25s 3s/step - loss: 0.0018 - accuracy: 0.9994\n",
            "Epoch 132/500\n",
            "8/8 [==============================] - 25s 3s/step - loss: 0.0022 - accuracy: 0.9995\n",
            "Epoch 133/500\n",
            "8/8 [==============================] - 25s 3s/step - loss: 0.0017 - accuracy: 0.9996\n",
            "Epoch 134/500\n",
            "8/8 [==============================] - 25s 3s/step - loss: 0.0027 - accuracy: 0.9992\n",
            "Epoch 135/500\n",
            "8/8 [==============================] - 25s 3s/step - loss: 0.0020 - accuracy: 0.9994\n",
            "Epoch 136/500\n",
            "8/8 [==============================] - 25s 3s/step - loss: 0.0018 - accuracy: 0.9995\n",
            "Epoch 137/500\n",
            "8/8 [==============================] - 25s 3s/step - loss: 0.0021 - accuracy: 0.9993\n",
            "Epoch 138/500\n",
            "8/8 [==============================] - 25s 3s/step - loss: 0.0018 - accuracy: 0.9994\n",
            "Epoch 139/500\n",
            "8/8 [==============================] - ETA: 0s - loss: 0.0017 - accuracy: 0.9995\n",
            "Epoch 00139: ReduceLROnPlateau reducing learning rate to 0.00023730468819849193.\n",
            "8/8 [==============================] - 25s 3s/step - loss: 0.0017 - accuracy: 0.9995\n",
            "Epoch 140/500\n",
            "8/8 [==============================] - 25s 3s/step - loss: 0.0018 - accuracy: 0.9993\n",
            "Epoch 141/500\n",
            "8/8 [==============================] - 25s 3s/step - loss: 0.0015 - accuracy: 0.9995\n",
            "Epoch 142/500\n",
            "8/8 [==============================] - 25s 3s/step - loss: 0.0011 - accuracy: 0.9996\n",
            "Epoch 143/500\n",
            "8/8 [==============================] - 25s 3s/step - loss: 0.0012 - accuracy: 0.9996\n",
            "Epoch 144/500\n",
            "8/8 [==============================] - 25s 3s/step - loss: 0.0014 - accuracy: 0.9995\n",
            "Epoch 145/500\n",
            "8/8 [==============================] - ETA: 0s - loss: 0.0013 - accuracy: 0.9995\n",
            "Epoch 00145: ReduceLROnPlateau reducing learning rate to 0.00017797851614886895.\n",
            "8/8 [==============================] - 25s 3s/step - loss: 0.0013 - accuracy: 0.9995\n",
            "Epoch 146/500\n",
            "8/8 [==============================] - 25s 3s/step - loss: 0.0013 - accuracy: 0.9996\n",
            "Epoch 147/500\n",
            "8/8 [==============================] - 25s 3s/step - loss: 0.0013 - accuracy: 0.9995\n",
            "Epoch 148/500\n",
            "8/8 [==============================] - 25s 3s/step - loss: 0.0014 - accuracy: 0.9996\n",
            "Epoch 149/500\n",
            "8/8 [==============================] - 25s 3s/step - loss: 0.0014 - accuracy: 0.9995\n",
            "Epoch 150/500\n",
            "8/8 [==============================] - 25s 3s/step - loss: 8.6494e-04 - accuracy: 0.9996\n",
            "Epoch 151/500\n",
            "8/8 [==============================] - 25s 3s/step - loss: 8.8862e-04 - accuracy: 0.9997\n",
            "Epoch 152/500\n",
            "8/8 [==============================] - 25s 3s/step - loss: 0.0012 - accuracy: 0.9996\n",
            "Epoch 00152: early stopping\n"
          ],
          "name": "stdout"
        },
        {
          "output_type": "execute_result",
          "data": {
            "text/plain": [
              "<tensorflow.python.keras.callbacks.History at 0x7f7a0df5c940>"
            ]
          },
          "metadata": {
            "tags": []
          },
          "execution_count": 135
        }
      ]
    },
    {
      "cell_type": "code",
      "metadata": {
        "id": "SSxxO84XL4GK"
      },
      "source": [
        "# %tensorboard --logdir logs"
      ],
      "execution_count": null,
      "outputs": []
    },
    {
      "cell_type": "code",
      "metadata": {
        "id": "4jkxvQ12KVkB"
      },
      "source": [
        "test_data = pd.read_csv('./test.csv')\n",
        "test_data = test_data / 255\n",
        "data_images = []\n",
        "for i in range(test_data.shape[0]):\n",
        "    store = np.asarray(test_data.loc[[i][0]])\n",
        "    store = store.reshape(28,28)\n",
        "    data_images.append(store)"
      ],
      "execution_count": null,
      "outputs": []
    },
    {
      "cell_type": "code",
      "metadata": {
        "id": "w_EMHtkIMMX2"
      },
      "source": [
        "data_images = np.asarray(data_images)\n",
        "test_images = data_images.reshape(28000,28,28,1)\n",
        "test_predictions = model.predict_classes(test_images)\n",
        "export = []\n",
        "for i in range(test_data.shape[0]):\n",
        "    export.append([i+1,test_predictions[i]])\n",
        "df = pd.DataFrame(export, columns=['ImageId', 'Label'])\n",
        "df.to_csv(r'./Submission_'+datetime.datetime.today().strftime('%Y-%m-%d-%H:%M:%S')+'.csv',index=False)"
      ],
      "execution_count": null,
      "outputs": []
    },
    {
      "cell_type": "code",
      "metadata": {
        "id": "g6nI9y3GRWSH"
      },
      "source": [
        "  import random\n",
        "  def show_random_numbers():\n",
        "    rows, cols = 5, 5 \n",
        "    fig, axs = plt.subplots(rows, cols)\n",
        "    fig.subplots_adjust(top = 0.99, bottom=0.01, hspace=0.5, wspace=0.4)\n",
        "    for i in range(rows):\n",
        "      for j in range(cols):\n",
        "        x = random.randint(0,len(data_images)-1)\n",
        "        axs[i,j].imshow(data_images[x], cmap='gray')\n",
        "        axs[i,j].axis('off')\n",
        "        axs[i,j].set_title(test_predictions[x])"
      ],
      "execution_count": null,
      "outputs": []
    },
    {
      "cell_type": "code",
      "metadata": {
        "id": "9tX6IoNiedBA",
        "outputId": "950af23d-6caf-4a2f-e407-557fa36e3514",
        "colab": {
          "base_uri": "https://localhost:8080/",
          "height": 329
        }
      },
      "source": [
        "show_random_numbers()"
      ],
      "execution_count": null,
      "outputs": [
        {
          "output_type": "display_data",
          "data": {
            "image/png": "[encoded data removed]",
            "text/plain": [
              "<Figure size 432x288 with 25 Axes>"
            ]
          },
          "metadata": {
            "tags": [],
            "needs_background": "light"
          }
        }
      ]
    },
    {
      "cell_type": "code",
      "metadata": {
        "id": "HfnCZ6_ee4WW",
        "outputId": "3f56d45d-5dbb-4d49-bfe8-ec8cc0419ea1",
        "colab": {
          "base_uri": "https://localhost:8080/",
          "height": 329
        }
      },
      "source": [
        "show_random_numbers()"
      ],
      "execution_count": null,
      "outputs": [
        {
          "output_type": "display_data",
          "data": {
            "image/png": "[encoded data removed]",
            "text/plain": [
              "<Figure size 432x288 with 25 Axes>"
            ]
          },
          "metadata": {
            "tags": [],
            "needs_background": "light"
          }
        }
      ]
    },
    {
      "cell_type": "code",
      "metadata": {
        "id": "hkZrD_7ygaxP",
        "outputId": "1c7d96f9-f907-4bb9-aa55-2f6a5c1886ce",
        "colab": {
          "base_uri": "https://localhost:8080/",
          "height": 329
        }
      },
      "source": [
        "show_random_numbers()"
      ],
      "execution_count": null,
      "outputs": [
        {
          "output_type": "display_data",
          "data": {
            "image/png": "[encoded data removed]",
            "text/plain": [
              "<Figure size 432x288 with 25 Axes>"
            ]
          },
          "metadata": {
            "tags": [],
            "needs_background": "light"
          }
        }
      ]
    }
  ]
}